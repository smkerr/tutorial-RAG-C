{
  "cells": [
    {
      "cell_type": "markdown",
      "metadata": {
        "colab_type": "text",
        "id": "view-in-github"
      },
      "source": [
        "<a href=\"https://colab.research.google.com/github/smkerr/tutorial-rag-c/blob/main/Tutorial_RAG_C.ipynb\" target=\"_parent\"><img src=\"https://colab.research.google.com/assets/colab-badge.svg\" alt=\"Open In Colab\"/></a>"
      ]
    },
    {
      "cell_type": "markdown",
      "metadata": {
        "id": "13i7KQ9t-CV8"
      },
      "source": [
        "# Tutorial: Retrieval Augmented Generation with Citation (RAG+C)\n",
        "## GRAD-E1394 Deep Learning\n",
        "\n",
        "Authors:\n",
        "*   Kai Foerster, k.foerster@students.hertie-school.org\n",
        "*   Amin Oueslati, a.oueslati@students.hertie-school.org\n",
        "*   Steven Kerr, s.kerr@students.hertie-school.org\n",
        "\n",
        "\n",
        "This tutorial offers a step-by-step guide on how to implement Retrieval Augmented Generation with Citation (RAG+C) to address the challenge of knowledge management in government. In essence, RAG+C provides Large Language Models (LLMs) with additional contextual information through an external data base, which significantly improves response accuracy and avoids hallucinations, particularly on highly domain-specific topics. After showcasing the enhanced performance of RAG+C on a toy example related to coffee prices in Berlin Mitte, this tutorial's focus is the development of a chatbot to answer questions on the U.S. Federal Acquisition Regulation (FAR), the rule book for public procurement within the United States federal government. You will learn how to load and process FAR documents, store them in a data base and build your very own RAG pipeline. To validate model performance, we leverage a FAR-quiz commonly used for training government employees, which allows us to compare responses from a standard LLM to the RAG+C enhanced LLM. Lastly, this tutorial will show you how to deploy your model as a Conversation User Interface (CUI) on a web server.\n",
        "\n",
        "An important aspect of this tutorial is its commitment to open-source accessibility, ensuring that all models and frameworks employed are available to everyone. Moreover, the tutorial is designed with computational efficiency in mind. Unlike the resource-heavy process of fine-tuning LLMs, the methods and applications showcased can be comfortably executed on standard laptops. Overall, the tutorial is designed to provide users with clear understanding and a hands-on policy application of how LLM can be augmented to improve their reliability, relevance and privacy conformity, without the need to rely on paid LLM solutions.  "
      ]
    },
    {
      "cell_type": "markdown",
      "metadata": {
        "id": "yNv0ANr5WcD_"
      },
      "source": [
        "# Table of Contents\n",
        "\n",
        "1. [Memo](#memo)\n",
        "2. [Background & Prerequisites](#background-and-prereqs)\n",
        "3. [Software Requirements](#software-requirements)\n",
        "4. [Question-Answer LLM with Hugging Face](#question-answer-LLM)\n",
        "5. [Loading Data into a Vector Database](#vector-db)\n",
        "6. [RAG Pipeline](#rag-pipeline)\n",
        "7. [Model Evaluation](#model-evaluation)\n",
        "8. [Deployment as Conversation User Interface (CUI)](#cui-deployment)\n",
        "7. [References & Further Resources](#references)\n"
      ]
    },
    {
      "cell_type": "markdown",
      "metadata": {
        "id": "QH81wjfsJsv1"
      },
      "source": [
        "<a id=\"memo\"></a>\n",
        "# 1. Memo\n",
        "\n",
        "Poor knowledge management is negatively impacting governments globally. In this regard, the very nature of government is often\n",
        "inextricably linked to the problem. First, governments are enormous organizations, typically amounting to a country’s single largest employer. Second, governments are sparse and complex in their structure, stretching across hundreds of interdependent agencies and sub-agencies. Third, the knowledge in government concerns highly technical matters, which change continuously as new laws are created or existing laws updated.\n",
        "\n",
        "The detrimental consequences of poor knowledge management in government are multifaceted. Resources are lost, as staff spends up to 20% of its weekly working hours on acquiring internal knowledge (Partnership for Public Service, 2019). Additionally, governments make suboptimal policy decisions, as information is siloed and not accounted for in decision-making processes. One of the most severe examples is 9/11, which likely could have been prevented, had there been better knowledge-sharing across US security agencies (9/11 Commission Report, 2004). Lastly, a state’s legitimacy heavily depends on the adherence to its governing rules: If its officials fail to respect them, due to poor knowledge management, this threatens a government’s democratic foundations.\n",
        "\n",
        "To tackle poor knowledge management in government, this tutorial introduces Retrieval Augmented Generation with Citations (RAG+C). Essentially, RAG+C is a method for providing Large Language Models (LLMs) with additional contextual information when answering questions. Thus, it is best understood as a conversational chatbot that has access to highly domain-specific knowledge. Importantly, RAG+C outperforms alternative solutions both in terms of trustworthiness and practicability. First, the additional contextual information avoids hallucinations, while the citations enable users to manually validate the responses. Second, the RAG+C architecture is compatible with all LLMs, including any in-house models, and allows governments to store the contextual documents on its own servers. Third, compared to fine-tuning the model, updating the data base is much more practical, as it requires limited technical expertise and is computationally inexpensive.\n",
        "\n",
        "\n",
        "\n"
      ]
    },
    {
      "cell_type": "markdown",
      "metadata": {
        "id": "gQgijl46pYzn"
      },
      "source": [
        "<a id=\"#background-and-prereqs\"></a>\n",
        "# 2. Background & Prerequisites\n",
        "\n",
        "A fundamental understanding of machine learning is required for this tutorial. Specifically, the reader should be familiar with LLMs, the vectorization of text data and similarity measures such as cosine similarity.\n",
        "\n",
        "Retrieval Augmented Generation with Citations (RAG+C) is a sophisticated process that combines the expansive knowledge of an LLM with the precision of targeted information retrieval. The process can be best explained with reference to the illustration below.\n",
        "\n",
        "The process starts with a user query, in this case the question: “How much does a Lebkuchen Latte cost at Pret a Manger in Berlin Mitte?” Without the RAG+C component, this query would directly feed into the LLM which would generate a response (follow the red arrows). For general knowledge questions or questions that the LLM has encountered during the training process, the responses are typically of good quality. The problem is, that most LLM have not been trained on data that we would like it to know, such as internal data from public institutions, more recent events that happened since the training process of the LLM, or in this case the price of a Lebkuchen Latte. When one still insists on asking the LLM about such internal data, recent events or Lattes, it generates false answers which are hallucinated. In scientific terms, hallucinations occur when the question one asks is not contained in the parametric knowledge of the LLM, and hence the LLM invents knowledge.\n",
        "\n",
        "In contrast to RAG+C, the parametric knowledge of the LLM is augmented with source knowledge which is saved in a vector database. Essentially, we enable the LLM to retrieve additional relevant information beyond its parametric knowledge to answer a question. To understand how exactly the LLM is fed with the most relevant information to answer the question, let us look at the RAG+C pipeline represented by the green arrow in the illustration below.\n",
        "\n",
        "In the RAG+C pipeline, the query is transformed into a numerical representation known as a query vector. This transformation is accomplished through an embedding model, which digests the textual query and outputs a high-dimensional vector that captures its semantic essence. The magic lies in the embedding model's ability to encode the meaning of the text into a mathematical form that can be compared and matched against the vector database. The query vector serves as a key to find relevant contexts within this database — contexts that are semantically close to the intent and content of the initial query. To find those texts, the similarity score, such as a cosine similarity score, between the query vector and each text vector in the vector database are computed. Those contexts with the highest score are retrieved.\n",
        "\n",
        "The retrieved contexts are then fed to the LLM along with the original query text. This hybrid input, augmented with specific, relevant information, enables the LLM to generate responses that are not only contextually rich but also grounded in the retrieved data. The retrieved sources can further be added as references to the LLM response, thus enabling the 'C' (citation) element in RAG+C.\n",
        "\n",
        "When executing the code in this tutorial on Google Colab, ensure a smooth experience by downloading the contents of the `data` and `img` folders from the [tutorial repository](https://github.com/smkerr/tutorial-RAG-C) and configuring your folder structure so that it mirrors that of the repository."
      ]
    },
    {
      "cell_type": "code",
      "execution_count": 8,
      "metadata": {
        "colab": {
          "base_uri": "https://localhost:8080/",
          "height": 324
        },
        "id": "PBfppCu4VyTD",
        "outputId": "70ea4ded-85f6-414c-85ed-51fedc59e14a"
      },
      "outputs": [
        {
          "data": {
            "text/html": [
              "<img src=\"https://raw.githubusercontent.com/smkerr/tutorial-RAG-C/main/img/ragc-flowchart.png\" style=\"width: 55%\">"
            ],
            "text/plain": [
              "<IPython.core.display.HTML object>"
            ]
          },
          "execution_count": 8,
          "metadata": {},
          "output_type": "execute_result"
        }
      ],
      "source": [
        "from IPython.display import HTML\n",
        "\n",
        "# Define the image path and the desired width (as a percentage of the cell width)\n",
        "image_path = 'https://raw.githubusercontent.com/smkerr/tutorial-RAG-C/main/img/ragc-flowchart.png'\n",
        "image_width_percentage = 55  # e.g., 100% of the cell width\n",
        "\n",
        "# Create and display an HTML image tag with the specified width\n",
        "HTML(f'<img src=\"{image_path}\" style=\"width: {image_width_percentage}%\">')\n"
      ]
    },
    {
      "cell_type": "markdown",
      "metadata": {
        "id": "rSRCNgYzUwaf"
      },
      "source": [
        "<a id=\"software-requirements\"></a>\n",
        "# 3. Software Requirements\n",
        "\n",
        "In order to execute the first part of this tutorial up until the deployment in chainlit, it is necessary to install the following libraries. For a seamless experience, we suggest using Google Colab equipped with a GPU runtime, as it already has most dependencies pre-installed, eliminating the need to configure dependencies on your own device.\n",
        "\n",
        "For executing the notebook locally, Python version 3.10 is advised. One can use pip to install all libraries listed below into a new virtual environment. [Here](https://pip.pypa.io/en/latest/) you find more information on how to use pip in case you are interested.\n",
        "\n",
        "These are the libraries you need to run the notebook:\n",
        "\n",
        "* bs4\n",
        "* chainlit\n",
        "* chromadb\n",
        "* langchain\n",
        "* numpy\n",
        "* openpyxl\n",
        "* pandas\n",
        "* python-dotenv\n",
        "* scikit-learn\n",
        "* sentence_transformers\n",
        "* tqdm\n",
        "* unstructured\n",
        "\n",
        "Furthermore, one needs to install ipykernel to run the notebook locally. These libraries can be installed on your local system as well as to Google Colab by executing the subsequent cell (you will need to adapt the code slightly if you use pip).\n",
        "\n",
        "Please note, the prefix '!' might need to be substituted with '%' in the installation command, depending on your operating system or the configuration of your runtime environment."
      ]
    },
    {
      "cell_type": "code",
      "execution_count": null,
      "metadata": {
        "id": "jObV5LtDk0Vm",
        "outputId": "162372c0-cdd5-40d7-bf37-5d9435f5e4c3"
      },
      "outputs": [
        {
          "name": "stdout",
          "output_type": "stream",
          "text": [
            "\u001b[1mLoading .env environment variables...\u001b[0m\n",
            "\u001b[32mCourtesy Notice\u001b[0m: Pipenv found itself running within a virtual environment, so it will automatically use that environment, instead of creating its own for any project. You can set \u001b[1mPIPENV_IGNORE_VIRTUALENVS=1\u001b[0m to force pipenv to ignore that environment and create its own instead. You can set \u001b[1mPIPENV_VERBOSITY=-1\u001b[0m to suppress this warning.\n",
            "\u001b[1;32mInstalling langchain\u001b[0m\u001b[1;33m...\u001b[0m\n",
            "\u001b[?25lResolving langchain\u001b[33m...\u001b[0m\n",
            "\u001b[2K✔ Installation Succeeded\n",
            "\u001b[2K\u001b[32m⠋\u001b[0m Installing langchain...\n",
            "\u001b[1A\u001b[2K\u001b[1mInstalling dependencies from Pipfile.lock \u001b[0m\u001b[1m(\u001b[0m\u001b[1md3e772\u001b[0m\u001b[1m)\u001b[0m\u001b[1;33m...\u001b[0m\n",
            "To activate this project's virtualenv, run \u001b[33mpipenv shell\u001b[0m.\n",
            "Alternatively, run a command inside the virtualenv with \u001b[33mpipenv run\u001b[0m.\n",
            "\u001b[1mLoading .env environment variables...\u001b[0m\n",
            "\u001b[32mCourtesy Notice\u001b[0m: Pipenv found itself running within a virtual environment, so it will automatically use that environment, instead of creating its own for any project. You can set \u001b[1mPIPENV_IGNORE_VIRTUALENVS=1\u001b[0m to force pipenv to ignore that environment and create its own instead. You can set \u001b[1mPIPENV_VERBOSITY=-1\u001b[0m to suppress this warning.\n",
            "\u001b[1;32mInstalling sentence_transformers\u001b[0m\u001b[1;33m...\u001b[0m\n",
            "\u001b[?25lResolving sentence_transformers\u001b[33m...\u001b[0m\n",
            "\u001b[2K✔ Installation Succeeded\n",
            "\u001b[2K\u001b[32m⠋\u001b[0m Installing sentence_transformers...\n",
            "\u001b[1A\u001b[2K\u001b[1mInstalling dependencies from Pipfile.lock \u001b[0m\u001b[1m(\u001b[0m\u001b[1md3e772\u001b[0m\u001b[1m)\u001b[0m\u001b[1;33m...\u001b[0m\n",
            "To activate this project's virtualenv, run \u001b[33mpipenv shell\u001b[0m.\n",
            "Alternatively, run a command inside the virtualenv with \u001b[33mpipenv run\u001b[0m.\n",
            "\u001b[1mLoading .env environment variables...\u001b[0m\n",
            "\u001b[32mCourtesy Notice\u001b[0m: Pipenv found itself running within a virtual environment, so it will automatically use that environment, instead of creating its own for any project. You can set \u001b[1mPIPENV_IGNORE_VIRTUALENVS=1\u001b[0m to force pipenv to ignore that environment and create its own instead. You can set \u001b[1mPIPENV_VERBOSITY=-1\u001b[0m to suppress this warning.\n",
            "\u001b[1;32mInstalling chromadb\u001b[0m\u001b[1;33m...\u001b[0m\n",
            "\u001b[?25lResolving chromadb\u001b[33m...\u001b[0m\n",
            "\u001b[2K✔ Installation Succeeded\n",
            "\u001b[2K\u001b[32m⠋\u001b[0m Installing chromadb...\n",
            "\u001b[1A\u001b[2K\u001b[1mInstalling dependencies from Pipfile.lock \u001b[0m\u001b[1m(\u001b[0m\u001b[1md3e772\u001b[0m\u001b[1m)\u001b[0m\u001b[1;33m...\u001b[0m\n",
            "To activate this project's virtualenv, run \u001b[33mpipenv shell\u001b[0m.\n",
            "Alternatively, run a command inside the virtualenv with \u001b[33mpipenv run\u001b[0m.\n",
            "\u001b[1mLoading .env environment variables...\u001b[0m\n",
            "\u001b[32mCourtesy Notice\u001b[0m: Pipenv found itself running within a virtual environment, so it will automatically use that environment, instead of creating its own for any project. You can set \u001b[1mPIPENV_IGNORE_VIRTUALENVS=1\u001b[0m to force pipenv to ignore that environment and create its own instead. You can set \u001b[1mPIPENV_VERBOSITY=-1\u001b[0m to suppress this warning.\n",
            "\u001b[1;32mInstalling unstructured\u001b[0m\u001b[1;33m...\u001b[0m\n",
            "\u001b[?25lResolving unstructured\u001b[33m...\u001b[0m\n",
            "\u001b[2K✔ Installation Succeeded\n",
            "\u001b[2K\u001b[32m⠋\u001b[0m Installing unstructured...\n",
            "\u001b[1A\u001b[2K\u001b[1mInstalling dependencies from Pipfile.lock \u001b[0m\u001b[1m(\u001b[0m\u001b[1md3e772\u001b[0m\u001b[1m)\u001b[0m\u001b[1;33m...\u001b[0m\n",
            "To activate this project's virtualenv, run \u001b[33mpipenv shell\u001b[0m.\n",
            "Alternatively, run a command inside the virtualenv with \u001b[33mpipenv run\u001b[0m.\n",
            "\u001b[1mLoading .env environment variables...\u001b[0m\n",
            "\u001b[32mCourtesy Notice\u001b[0m: Pipenv found itself running within a virtual environment, so it will automatically use that environment, instead of creating its own for any project. You can set \u001b[1mPIPENV_IGNORE_VIRTUALENVS=1\u001b[0m to force pipenv to ignore that environment and create its own instead. You can set \u001b[1mPIPENV_VERBOSITY=-1\u001b[0m to suppress this warning.\n",
            "\u001b[1;32mInstalling chainlit\u001b[0m\u001b[1;33m...\u001b[0m\n",
            "\u001b[?25lResolving chainlit\u001b[33m...\u001b[0m\n",
            "\u001b[2K✔ Installation Succeeded\n",
            "\u001b[2K\u001b[32m⠋\u001b[0m Installing chainlit...\n",
            "\u001b[1A\u001b[2K\u001b[1mInstalling dependencies from Pipfile.lock \u001b[0m\u001b[1m(\u001b[0m\u001b[1md3e772\u001b[0m\u001b[1m)\u001b[0m\u001b[1;33m...\u001b[0m\n",
            "To activate this project's virtualenv, run \u001b[33mpipenv shell\u001b[0m.\n",
            "Alternatively, run a command inside the virtualenv with \u001b[33mpipenv run\u001b[0m.\n",
            "\u001b[1mLoading .env environment variables...\u001b[0m\n",
            "\u001b[32mCourtesy Notice\u001b[0m: Pipenv found itself running within a virtual environment, so it will automatically use that environment, instead of creating its own for any project. You can set \u001b[1mPIPENV_IGNORE_VIRTUALENVS=1\u001b[0m to force pipenv to ignore that environment and create its own instead. You can set \u001b[1mPIPENV_VERBOSITY=-1\u001b[0m to suppress this warning.\n",
            "\u001b[1;32mInstalling python-dotenv\u001b[0m\u001b[1;33m...\u001b[0m\n",
            "\u001b[?25lResolving python-dotenv\u001b[33m...\u001b[0m\n",
            "\u001b[2K✔ Installation Succeeded\n",
            "\u001b[2K\u001b[32m⠋\u001b[0m Installing python-dotenv...\n",
            "\u001b[1A\u001b[2K\u001b[1mInstalling dependencies from Pipfile.lock \u001b[0m\u001b[1m(\u001b[0m\u001b[1md3e772\u001b[0m\u001b[1m)\u001b[0m\u001b[1;33m...\u001b[0m\n",
            "To activate this project's virtualenv, run \u001b[33mpipenv shell\u001b[0m.\n",
            "Alternatively, run a command inside the virtualenv with \u001b[33mpipenv run\u001b[0m.\n",
            "\u001b[1mLoading .env environment variables...\u001b[0m\n",
            "\u001b[32mCourtesy Notice\u001b[0m: Pipenv found itself running within a virtual environment, so it will automatically use that environment, instead of creating its own for any project. You can set \u001b[1mPIPENV_IGNORE_VIRTUALENVS=1\u001b[0m to force pipenv to ignore that environment and create its own instead. You can set \u001b[1mPIPENV_VERBOSITY=-1\u001b[0m to suppress this warning.\n",
            "\u001b[1;32mInstalling bs4\u001b[0m\u001b[1;33m...\u001b[0m\n",
            "\u001b[?25lResolving bs4\u001b[33m...\u001b[0m\n",
            "\u001b[2K✔ Installation Succeeded\n",
            "\u001b[2K\u001b[32m⠋\u001b[0m Installing bs4...\n",
            "\u001b[1A\u001b[2K\u001b[1mInstalling dependencies from Pipfile.lock \u001b[0m\u001b[1m(\u001b[0m\u001b[1md3e772\u001b[0m\u001b[1m)\u001b[0m\u001b[1;33m...\u001b[0m\n",
            "To activate this project's virtualenv, run \u001b[33mpipenv shell\u001b[0m.\n",
            "Alternatively, run a command inside the virtualenv with \u001b[33mpipenv run\u001b[0m.\n",
            "\u001b[1mLoading .env environment variables...\u001b[0m\n",
            "\u001b[32mCourtesy Notice\u001b[0m: Pipenv found itself running within a virtual environment, so it will automatically use that environment, instead of creating its own for any project. You can set \u001b[1mPIPENV_IGNORE_VIRTUALENVS=1\u001b[0m to force pipenv to ignore that environment and create its own instead. You can set \u001b[1mPIPENV_VERBOSITY=-1\u001b[0m to suppress this warning.\n",
            "\u001b[1;32mInstalling tqdm\u001b[0m\u001b[1;33m...\u001b[0m\n",
            "\u001b[?25lResolving tqdm\u001b[33m...\u001b[0m\n",
            "\u001b[2K✔ Installation Succeeded\n",
            "\u001b[2K\u001b[32m⠋\u001b[0m Installing tqdm...\n",
            "\u001b[1A\u001b[2K\u001b[1mInstalling dependencies from Pipfile.lock \u001b[0m\u001b[1m(\u001b[0m\u001b[1md3e772\u001b[0m\u001b[1m)\u001b[0m\u001b[1;33m...\u001b[0m\n",
            "To activate this project's virtualenv, run \u001b[33mpipenv shell\u001b[0m.\n",
            "Alternatively, run a command inside the virtualenv with \u001b[33mpipenv run\u001b[0m.\n",
            "\u001b[1mLoading .env environment variables...\u001b[0m\n",
            "\u001b[32mCourtesy Notice\u001b[0m: Pipenv found itself running within a virtual environment, so it will automatically use that environment, instead of creating its own for any project. You can set \u001b[1mPIPENV_IGNORE_VIRTUALENVS=1\u001b[0m to force pipenv to ignore that environment and create its own instead. You can set \u001b[1mPIPENV_VERBOSITY=-1\u001b[0m to suppress this warning.\n",
            "\u001b[1;32mInstalling pandas\u001b[0m\u001b[1;33m...\u001b[0m\n",
            "\u001b[?25lResolving pandas\u001b[33m...\u001b[0m\n",
            "\u001b[2K✔ Installation Succeeded\n",
            "\u001b[2K\u001b[32m⠋\u001b[0m Installing pandas...\n",
            "\u001b[1A\u001b[2K\u001b[1mInstalling dependencies from Pipfile.lock \u001b[0m\u001b[1m(\u001b[0m\u001b[1md3e772\u001b[0m\u001b[1m)\u001b[0m\u001b[1;33m...\u001b[0m\n",
            "To activate this project's virtualenv, run \u001b[33mpipenv shell\u001b[0m.\n",
            "Alternatively, run a command inside the virtualenv with \u001b[33mpipenv run\u001b[0m.\n",
            "\u001b[1mLoading .env environment variables...\u001b[0m\n",
            "\u001b[32mCourtesy Notice\u001b[0m: Pipenv found itself running within a virtual environment, so it will automatically use that environment, instead of creating its own for any project. You can set \u001b[1mPIPENV_IGNORE_VIRTUALENVS=1\u001b[0m to force pipenv to ignore that environment and create its own instead. You can set \u001b[1mPIPENV_VERBOSITY=-1\u001b[0m to suppress this warning.\n",
            "\u001b[1;32mInstalling openpyxl\u001b[0m\u001b[1;33m...\u001b[0m\n",
            "\u001b[?25lResolving openpyxl\u001b[33m...\u001b[0m\n",
            "\u001b[2K✔ Installation Succeeded\n",
            "\u001b[2K\u001b[32m⠋\u001b[0m Installing openpyxl...\n",
            "\u001b[1A\u001b[2K\u001b[1mInstalling dependencies from Pipfile.lock \u001b[0m\u001b[1m(\u001b[0m\u001b[1md3e772\u001b[0m\u001b[1m)\u001b[0m\u001b[1;33m...\u001b[0m\n",
            "To activate this project's virtualenv, run \u001b[33mpipenv shell\u001b[0m.\n",
            "Alternatively, run a command inside the virtualenv with \u001b[33mpipenv run\u001b[0m.\n",
            "\u001b[1mLoading .env environment variables...\u001b[0m\n",
            "\u001b[32mCourtesy Notice\u001b[0m: Pipenv found itself running within a virtual environment, so it will automatically use that environment, instead of creating its own for any project. You can set \u001b[1mPIPENV_IGNORE_VIRTUALENVS=1\u001b[0m to force pipenv to ignore that environment and create its own instead. You can set \u001b[1mPIPENV_VERBOSITY=-1\u001b[0m to suppress this warning.\n",
            "\u001b[1;32mInstalling scikit-learn\u001b[0m\u001b[1;33m...\u001b[0m\n",
            "\u001b[?25lResolving scikit-learn\u001b[33m...\u001b[0m\n",
            "\u001b[2K✔ Installation Succeeded\n",
            "\u001b[2K\u001b[32m⠋\u001b[0m Installing scikit-learn...\n",
            "\u001b[1A\u001b[2K\u001b[1mInstalling dependencies from Pipfile.lock \u001b[0m\u001b[1m(\u001b[0m\u001b[1md3e772\u001b[0m\u001b[1m)\u001b[0m\u001b[1;33m...\u001b[0m\n",
            "To activate this project's virtualenv, run \u001b[33mpipenv shell\u001b[0m.\n",
            "Alternatively, run a command inside the virtualenv with \u001b[33mpipenv run\u001b[0m.\n",
            "\u001b[1mLoading .env environment variables...\u001b[0m\n",
            "\u001b[32mCourtesy Notice\u001b[0m: Pipenv found itself running within a virtual environment, so it will automatically use that environment, instead of creating its own for any project. You can set \u001b[1mPIPENV_IGNORE_VIRTUALENVS=1\u001b[0m to force pipenv to ignore that environment and create its own instead. You can set \u001b[1mPIPENV_VERBOSITY=-1\u001b[0m to suppress this warning.\n",
            "\u001b[1;32mInstalling numpy\u001b[0m\u001b[1;33m...\u001b[0m\n",
            "\u001b[?25lResolving numpy\u001b[33m...\u001b[0m\n",
            "\u001b[2K✔ Installation Succeeded\n",
            "\u001b[2K\u001b[32m⠋\u001b[0m Installing numpy...\n",
            "\u001b[1A\u001b[2K\u001b[1mInstalling dependencies from Pipfile.lock \u001b[0m\u001b[1m(\u001b[0m\u001b[1md3e772\u001b[0m\u001b[1m)\u001b[0m\u001b[1;33m...\u001b[0m\n",
            "To activate this project's virtualenv, run \u001b[33mpipenv shell\u001b[0m.\n",
            "Alternatively, run a command inside the virtualenv with \u001b[33mpipenv run\u001b[0m.\n"
          ]
        }
      ],
      "source": [
        "# install dependencies\n",
        "!pip install  -qqq langchain\n",
        "!pip install  -qqq sentence_transformers\n",
        "!pip install  -qqq chromadb\n",
        "!pip install  -qqq unstructured\n",
        "!pip install  -qqq chainlit\n",
        "!pip install  -qqq python-dotenv\n",
        "!pip install  -qqq bs4\n",
        "!pip install  -qqq tqdm\n",
        "!pip install  -qqq pandas\n",
        "!pip install  -qqq openpyxl\n",
        "!pip install  -qqq scikit-learn\n",
        "!pip install  -qqq numpy"
      ]
    },
    {
      "cell_type": "code",
      "execution_count": 2,
      "metadata": {
        "id": "MumgSSs_VyTI",
        "outputId": "3b54e9fe-5931-43de-d147-709e8ffeb702"
      },
      "outputs": [
        {
          "name": "stderr",
          "output_type": "stream",
          "text": [
            "/Users/steve/.local/share/virtualenvs/dl-tutorial-Si6gq9gB/lib/python3.11/site-packages/tqdm/auto.py:21: TqdmWarning: IProgress not found. Please update jupyter and ipywidgets. See https://ipywidgets.readthedocs.io/en/stable/user_install.html\n",
            "  from .autonotebook import tqdm as notebook_tqdm\n"
          ]
        }
      ],
      "source": [
        "# For managing API keys and secrets\n",
        "import os\n",
        "from dotenv import load_dotenv\n",
        "\n",
        "# For loading and manipulating LLMs\n",
        "from langchain import HuggingFaceHub, PromptTemplate, LLMChain\n",
        "from langchain.document_loaders import DirectoryLoader\n",
        "\n",
        "# For loading data, embedding it and storing on ChromaDB\n",
        "from langchain.vectorstores import Chroma\n",
        "from bs4 import SoupStrainer\n",
        "from langchain.embeddings import SentenceTransformerEmbeddings\n",
        "from langchain.document_loaders import DirectoryLoader\n",
        "from langchain.document_loaders import BSHTMLLoader\n",
        "import shutil\n",
        "import re\n",
        "\n",
        "# For evaluating the RAG using the quiz\n",
        "import pandas as pd\n",
        "import numpy as np\n",
        "from sentence_transformers import SentenceTransformer\n",
        "from sklearn.metrics.pairwise import cosine_similarity\n",
        "\n",
        "# Integrating images and video in the notebook\n",
        "from IPython.display import Image\n",
        "from IPython.display import YouTubeVideo"
      ]
    },
    {
      "cell_type": "markdown",
      "metadata": {
        "id": "KmiDgzHIVyTK"
      },
      "source": [
        "<a name=\"question-answer-LLM\"></a>\n",
        "# 4. Question & Answer LLM with Hugging Face\n",
        "\n",
        "This section introduces the application of large language models (LLMs) within the framework provided by Hugging Face. Setting up an operational LLM that the user can interact with is a pre-requiste for building a RAG enhanced LLM.  \n",
        "\n",
        "Despite the superior performance and ease of integration associated with models offered on a pay-as-you-go basis by commercial providers such as OpenAI, this notebook utilises Hugging Face, which provides an open-source alternative to state-of-the-art LLMs of commerical providers, which operate on a pay-as-you-go basis. This tutorial uses the falcon-7b-instruct model, an open-source model which comes well-balanced in size and performance. The falcon-7b-instruct model, developed by the Technology and Innovation Institute in the UAE, is a 7 billion parameter model fine-tuned for chat and instructions, ensuring high-quality responses [[1]](https://huggingface.co/tiiuae/falcon-7b-instruct).\n",
        "\n",
        "Employing the falcon-7b-instruct model through the Hugging Face Hub eliminates the need for intensive local computing. This approach also circumvents the challenges associated with downloading and operating sizeable models on standard personal computing devices, a process often hindered by substantial working memory requirements."
      ]
    },
    {
      "cell_type": "markdown",
      "metadata": {
        "id": "QQKa6rwyVyTL"
      },
      "source": [
        "## Setting Up Hugging Face for Model Integration\n",
        "\n",
        "First, we need create a Hugging Face API key and save it to a .env file in our root directory. The instructions below will walk you through this process:\n",
        "\n",
        "\n",
        "1. **Creating an Account on Hugging Face**:\n",
        "To create an account on Hugging Face, visit the [Hugging Face website](https://huggingface.co/join) and click the \"Sign Up\" button, typically located in the top right-hand corner. Provide your email, and set your password. Follow any additional prompts, such as email verification, to complete your account registration.\n"
      ]
    },
    {
      "cell_type": "code",
      "execution_count": 9,
      "metadata": {
        "id": "4t9BsnObVyTL",
        "outputId": "639925a5-2b22-43dc-9687-4cca86045cbd"
      },
      "outputs": [
        {
          "data": {
            "text/html": [
              "<img src=\"https://raw.githubusercontent.com/smkerr/tutorial-RAG-C/main/img/hugging-face-login.png\" style=\"width: 55%\">"
            ],
            "text/plain": [
              "<IPython.core.display.HTML object>"
            ]
          },
          "execution_count": 9,
          "metadata": {},
          "output_type": "execute_result"
        }
      ],
      "source": [
        "image_path = 'https://raw.githubusercontent.com/smkerr/tutorial-RAG-C/main/img/hugging-face-login.png'\n",
        "HTML(f'<img src=\"{image_path}\" style=\"width: {image_width_percentage}%\">')"
      ]
    },
    {
      "cell_type": "markdown",
      "metadata": {
        "id": "aeaFXRrIVyTM"
      },
      "source": [
        "2. **Creating an API Key on Hugging Face**:\n",
        "Once registered, log into your Hugging Face account and access your profile settings. Click on the \"API\" tab in the settings menu and click it. Next, create a new API key by clicking the “New API token” button, provide a name for the token, and then click “Create a token”. Remember to copy and securely store the generated API key, as it allows access to your Hugging Face account."
      ]
    },
    {
      "cell_type": "code",
      "execution_count": 10,
      "metadata": {
        "id": "qXnmhPH4VyTM",
        "outputId": "84bcc1e1-a6fd-4b43-a014-d1efd09498fb"
      },
      "outputs": [
        {
          "data": {
            "text/html": [
              "<img src=\"https://raw.githubusercontent.com/smkerr/tutorial-RAG-C/main/img/hugging-face-token.png\" style=\"width: 55%\">"
            ],
            "text/plain": [
              "<IPython.core.display.HTML object>"
            ]
          },
          "execution_count": 10,
          "metadata": {},
          "output_type": "execute_result"
        }
      ],
      "source": [
        "image_path = 'https://raw.githubusercontent.com/smkerr/tutorial-RAG-C/main/img/hugging-face-token.png'\n",
        "HTML(f'<img src=\"{image_path}\" style=\"width: {image_width_percentage}%\">')"
      ]
    },
    {
      "cell_type": "markdown",
      "metadata": {
        "id": "RnP72CNvVyTN"
      },
      "source": [
        "3. **Saving the API Key in an .env File**:\n",
        "Create a new .env file in the root directory of your project using your code editor or IDE. Inside this file, enter the line `HF_API_TOKEN=\"xxxxx\"`, replacing `xxxxx` with your actual API key. Ensure you save the file after entering this information. If you are working on colab, you will need to upload the .env file to your files."
      ]
    },
    {
      "cell_type": "code",
      "execution_count": 11,
      "metadata": {
        "id": "cW2pcQ_vVyTN",
        "outputId": "3c193ceb-0949-4bb7-a9ed-6bd33da50070"
      },
      "outputs": [
        {
          "data": {
            "text/html": [
              "<img src=\"https://raw.githubusercontent.com/smkerr/tutorial-RAG-C/main/img/envfile.png\" style=\"width: 55%\">"
            ],
            "text/plain": [
              "<IPython.core.display.HTML object>"
            ]
          },
          "execution_count": 11,
          "metadata": {},
          "output_type": "execute_result"
        }
      ],
      "source": [
        "image_path = 'https://raw.githubusercontent.com/smkerr/tutorial-RAG-C/main/img/envfile.png'\n",
        "HTML(f'<img src=\"{image_path}\" style=\"width: {image_width_percentage}%\">')"
      ]
    },
    {
      "cell_type": "markdown",
      "metadata": {
        "id": "fNgAnXC9VyTO"
      },
      "source": [
        "4. **Loading Environment Variables into the Notebook**:\n",
        "Now import the `load_dotenv` function from the dotenv package and call it to load your environment variables. Then, use `import os` followed by `HF_API_TOKEN = os.getenv('HF_API_TOKEN')` to access the Hugging Face API token you saved in your .env file. This process makes the API token available in your notebook for further use."
      ]
    },
    {
      "cell_type": "code",
      "execution_count": null,
      "metadata": {
        "id": "qbwZm6ReVyTO"
      },
      "outputs": [],
      "source": [
        "# Load environment variables from the .env file\n",
        "load_dotenv()\n",
        "\n",
        "# Retrieve the 'HF_API_TOKEN' environment variable using os.getenv\n",
        "# This returns the value of 'HF_API_TOKEN' defined in the .env file\n",
        "HF_API_TOKEN = os.getenv('HF_API_TOKEN')"
      ]
    },
    {
      "cell_type": "markdown",
      "metadata": {
        "id": "fYO_oey-VyTO"
      },
      "source": [
        "## Loading the Hugging Face model in Hugging Face Hub\n",
        "\n",
        "Next, we specify the name of the model we want to load, provide our API token and make any further configurations to the model. At this stage, we must decide upon the following hyperparameters:\n",
        "\n",
        "* **temperature**: This parameter influences the creativity of the LLM's responses, with a scale ranging from 0 to 1. A higher value results in more inventive outputs. We set this to 0.8, allowing for a degree of unpredictability or 'hallucination' in responses, which is a model behavior we aim to demonstrate to the user.\n",
        "\n",
        "* **max_length**: Defines the maximum length of the model's output, including both the input (such as the question and context) and the generated response. In this case, the limit is set to 1,000 tokens since this is the maximum prompt length allowed by the falcon-7b-instruct model. This setting helps in managing the verbosity and relevance of the model's replies.\n",
        "\n",
        "* **use_cache**: When set to `False`, this parameter ensures that the model generates fresh responses for each query rather than relying on previously generated answers stored in cache. This is particularly useful for demonstrating the model's capability to generate unique responses on every run, which is essential for understanding its dynamic nature."
      ]
    },
    {
      "cell_type": "code",
      "execution_count": null,
      "metadata": {
        "id": "eT0GsXy6VyTP",
        "outputId": "21e7c897-21ba-450b-aecd-dc0b8efa4078"
      },
      "outputs": [
        {
          "name": "stderr",
          "output_type": "stream",
          "text": [
            "/Users/steve/.local/share/virtualenvs/dl-tutorial-Si6gq9gB/lib/python3.11/site-packages/huggingface_hub/utils/_deprecation.py:127: FutureWarning: '__init__' (from 'huggingface_hub.inference_api') is deprecated and will be removed from version '1.0'. `InferenceApi` client is deprecated in favor of the more feature-complete `InferenceClient`. Check out this guide to learn how to convert your script to use it: https://huggingface.co/docs/huggingface_hub/guides/inference#legacy-inferenceapi-client.\n",
            "  warnings.warn(warning_message, FutureWarning)\n"
          ]
        }
      ],
      "source": [
        "# Define the ID of the model to be used from Hugging Face Hub\n",
        "model_id = \"tiiuae/falcon-7b-instruct\"\n",
        "\n",
        "# Initialize the HuggingFaceHub class with specified parameters\n",
        "# huggingfacehub_api_token: Uses the API token stored in the 'HF_API_TOKEN' environment variable\n",
        "# repo_id: Sets the repository ID to the specified model ID\n",
        "# model_kwargs: Sets additional parameters for the model as outlined above\n",
        "conv_model = HuggingFaceHub(\n",
        "    huggingfacehub_api_token=os.environ['HF_API_TOKEN'],\n",
        "    repo_id=model_id,\n",
        "    model_kwargs={\"temperature\":0.8,\"max_length\": 1000, \"use_cache\": False}\n",
        ")"
      ]
    },
    {
      "cell_type": "markdown",
      "metadata": {
        "id": "L6eD7dRhVyTP"
      },
      "source": [
        "## Prompt Templates and LLMChain\n",
        "\n",
        "\n",
        "`PromptTemplate` from LangChain is a tool for creating structured prompts that are used to interact with language models. The structure and content of the prompt are designed to guide the language model towards generating specific types of responses.\n",
        "\n",
        "In the code below, the `PromptTemplate` is being used to create a template for the language model, in this case, to act as a helpful assistant. The template includes a placeholder `{human_message}` where the user's query or statement will be inserted."
      ]
    },
    {
      "cell_type": "code",
      "execution_count": null,
      "metadata": {
        "id": "9DGNM4EUVyTP"
      },
      "outputs": [],
      "source": [
        "# Define a prompt template with a placeholder for user input.\n",
        "template = \"\"\"You are a helpful assistant that answers questions of the user.\n",
        "{human_message}\n",
        "\"\"\"\n",
        "\n",
        "# Create a PromptTemplate object, specifying 'human_message' as the dynamic input variable.\n",
        "prompt = PromptTemplate(template=template, input_variables=[\"human_message\"])"
      ]
    },
    {
      "cell_type": "markdown",
      "metadata": {
        "id": "r74SRVncVyTQ"
      },
      "source": [
        "This code snippet uses `LLMChain`, a langchain function, to \"chain\" the language model and the prompt together into a single pipeline. Using the `LLMChain` pipeline ensures that the prompt is fed into the LLM in an accepted format, so that we receive a response. The `verbose=True` parameter ensures that the function provides detailed output about the process."
      ]
    },
    {
      "cell_type": "code",
      "execution_count": null,
      "metadata": {
        "id": "kz5p2FULVyTQ"
      },
      "outputs": [],
      "source": [
        "# Create a LLMChain object for a conversational model, using the specified LLM model and prompt template, with verbose logging.\n",
        "conv_chain = LLMChain(llm=conv_model, prompt=prompt, verbose=True)"
      ]
    },
    {
      "cell_type": "markdown",
      "metadata": {
        "id": "w2TBLUjhVyTQ"
      },
      "source": [
        "## Response Generation\n",
        "\n",
        "Finally, the code below runs the model chain with a specific question about the cost of a Lebkuchen Latte at Pret a Manger in Berlin Mitte. The `run()` method takes the user's question, inserts it into the `{human_message}` placeholder in the prompt template, and then feeds the complete prompt to the LLM. The model then generates a response based on this prompt, which is printed out.\n",
        "\n",
        "The choice of an uncommon drink here is intentional, with the aim of exposing a gap in the knowledge of the LLM's knowledge base. Notice that while the model gives a fair estimate of how much a Lebkuchen Latte may cost at Pret a Manger in Berlin Mitte, but the price is actually false. Moreover, each time we re-run the code, the model generates a new price estimate. This example shows that the model hallucinates given it does not know the true price. In actuality, a Lebkuchen Latte at Pret a Manger in Berlin costs 4.40 Euros at the time of writing."
      ]
    },
    {
      "cell_type": "code",
      "execution_count": null,
      "metadata": {
        "id": "-ok_YwJiVyTQ",
        "outputId": "68d62a30-4368-438f-9b98-6f5570c41926"
      },
      "outputs": [
        {
          "name": "stdout",
          "output_type": "stream",
          "text": [
            "\n",
            "\n",
            "\u001b[1m> Entering new LLMChain chain...\u001b[0m\n",
            "Prompt after formatting:\n",
            "\u001b[32;1m\u001b[1;3mYou are a helpful assistant that answers questions of the user.\n",
            "How much does a Lebkuchen Latte cost at Pret a Manger in Berlin Mitte?\n",
            "\u001b[0m\n"
          ]
        },
        {
          "name": "stdout",
          "output_type": "stream",
          "text": [
            "\n",
            "\u001b[1m> Finished chain.\u001b[0m\n",
            "The price of a Lebkuchen Latte at Pret a Manger in Berlin Mitte is €3.50.\n"
          ]
        }
      ],
      "source": [
        "# Execute the conversational chain with a specific query and print the response.\n",
        "print(conv_chain.run(\"How much does a Lebkuchen Latte cost at Pret a Manger in Berlin Mitte?\"))"
      ]
    },
    {
      "cell_type": "markdown",
      "metadata": {
        "id": "PCSv4j8BVyTR"
      },
      "source": [
        "## Providing Relevant Context\n",
        "\n",
        "To resolve the issue encountered above, we can provide the model with some context about the current menu prices for Pret a Manger in Berlin Mitte. We implement this by pasting an excerpt of the menu obtained from [Uber Eats](https://www.ubereats.com/de/store/pret-a-manger/t2FefGKTXUavHMqkEDVCVw) as a multi-line string into a list called `llmchain_information`. The list is then converted into a single string."
      ]
    },
    {
      "cell_type": "code",
      "execution_count": null,
      "metadata": {
        "id": "v_NtKOLiVyTR"
      },
      "outputs": [],
      "source": [
        "# List containing the menue of Pret a Manger in Berlin Mitte\n",
        "llmchain_information = [\n",
        "   \"\"\"Hot Drinks & Frappees - Pret A Manger - Berlin Mitte\n",
        "\n",
        "Latte - 1,5% Milch: 4,60 €\n",
        "Matcha Latte - Hafer: 5,40 €\n",
        "Flat White 0,1% Milch: 4,40 €\n",
        "Chai Latte - 1,5% Milch: 4,90 €\n",
        "Americano: 3,80 €\n",
        "Hot Chocolate - 1,5% Milch: 4,60 €\n",
        "Macchiato - 0,1% Milch: 2,65 €\n",
        "Espresso: 2,30 €\n",
        "Hot Chocolate - Hafer: 4,60 €\n",
        "Pumpkin Spice Latte - 0,1% Milch: 5,40 €\n",
        "Cappuccino - Hafer: 4,20 €\n",
        "Chai Latte - Soja: 4,90 €\n",
        "Espresso Doppio: 3,10 €\n",
        "Lebkuchen Latte: 4,40 € \"\"\"\n",
        "]\n",
        "\n",
        "# Converts the list of menu items into a single multi-line string.\n",
        "source_knowledge = \"\\n\".join(llmchain_information)"
      ]
    },
    {
      "cell_type": "markdown",
      "metadata": {
        "id": "Icf9Zb0-VyTR"
      },
      "source": [
        "Next, we adapt our template by adding a placeholder for the menu prices that we want to add as context to the prompt."
      ]
    },
    {
      "cell_type": "code",
      "execution_count": null,
      "metadata": {
        "id": "X1iOH6fLVyTR"
      },
      "outputs": [],
      "source": [
        "# Template string defining the structure for interaction with an assistant, including context and user message.\n",
        "template_with_context = \"\"\"You are a helpful assistant that answers questions of the user, using the context provided below.\n",
        "\n",
        "Contexts:{source_knowledge}\n",
        "\n",
        "{human_message}\n",
        "\"\"\"\n",
        "\n",
        "# Creates an instance of PromptTemplate using the defined template and specifying input variables.\n",
        "prompt2 = PromptTemplate(template=template_with_context, input_variables=[\"human_message\", \"source_knowledge\"])\n"
      ]
    },
    {
      "cell_type": "markdown",
      "metadata": {
        "id": "WbKGdYE5VyTS"
      },
      "source": [
        "Here is our prompt with the context and the question included!"
      ]
    },
    {
      "cell_type": "code",
      "execution_count": null,
      "metadata": {
        "id": "Z3U75BcbVyTS",
        "outputId": "ee84cdca-7068-47d4-b3f4-81b473b17af6"
      },
      "outputs": [
        {
          "name": "stdout",
          "output_type": "stream",
          "text": [
            "You are a helpful assistant that answers questions of the user, using the context provided below.\n",
            "\n",
            "Contexts:Hot Drinks & Frappees - Pret A Manger - Berlin Mitte\n",
            "\n",
            "Latte - 1,5% Milch: 4,60 €\n",
            "Matcha Latte - Hafer: 5,40 €\n",
            "Flat White 0,1% Milch: 4,40 €\n",
            "Chai Latte - 1,5% Milch: 4,90 €\n",
            "Americano: 3,80 €\n",
            "Hot Chocolate - 1,5% Milch: 4,60 €\n",
            "Macchiato - 0,1% Milch: 2,65 €\n",
            "Espresso: 2,30 €\n",
            "Hot Chocolate - Hafer: 4,60 €\n",
            "Pumpkin Spice Latte - 0,1% Milch: 5,40 €\n",
            "Cappuccino - Hafer: 4,20 €\n",
            "Chai Latte - Soja: 4,90 €\n",
            "Espresso Doppio: 3,10 €\n",
            "Lebkuchen Latte: 4,40 € \n",
            "\n",
            "How much does a Lebkuchen Latte cost at Pret a Manger in Berlin Mitte?\n",
            "\n"
          ]
        }
      ],
      "source": [
        "# Formats and prints the prompt with specific user query and source knowledge context.\n",
        "print(prompt2.format(human_message=\"How much does a Lebkuchen Latte cost at Pret a Manger in Berlin Mitte?\", source_knowledge=source_knowledge))"
      ]
    },
    {
      "cell_type": "markdown",
      "metadata": {
        "id": "rjHzbE00VyTS"
      },
      "source": [
        "Next, we adapt the `LLMChain` by passing it the new prompt we just created!"
      ]
    },
    {
      "cell_type": "code",
      "execution_count": null,
      "metadata": {
        "id": "1AoqCtroVyTT"
      },
      "outputs": [],
      "source": [
        "# Initializes an LLMChain with a LLM  and the specified prompt template, enabling verbose output.\n",
        "context_chain = LLMChain(llm=conv_model, prompt=prompt2, verbose=True)"
      ]
    },
    {
      "cell_type": "markdown",
      "metadata": {
        "id": "F5QoVItgVyTT"
      },
      "source": [
        "Finally, the code below runs the model chain with our specific question about the cost of a Lebkuchen Latte at Pret a Manger in Berlin Mitte and with the menu prices included as context. The resulting response of the model is spot on!\n",
        "\n",
        "By providing further context to the model, we have augumented the parametric knowledge of the LLM with source knowledge. And the process we have implemented manually for our specific question can be scaled up to thousands of documents when we use a RAG pipeline.\n",
        "\n",
        "The important concept to remember when it comes to building this RAG pipeline is that, in essence, we are doing nothing more than providing the LLM with relevant source knowledge to augment its parametric knowledge as we are doing in the simple example about coffee prices at Pret a Manger in Berlin Mitte."
      ]
    },
    {
      "cell_type": "code",
      "execution_count": null,
      "metadata": {
        "id": "DsSMZHhNVyTT",
        "outputId": "9eceb4d3-9bc8-4282-bc14-b67613e7d00c"
      },
      "outputs": [
        {
          "name": "stdout",
          "output_type": "stream",
          "text": [
            "\n",
            "\n",
            "\u001b[1m> Entering new LLMChain chain...\u001b[0m\n",
            "Prompt after formatting:\n",
            "\u001b[32;1m\u001b[1;3mYou are a helpful assistant that answers questions of the user, using the context provided below.\n",
            "\n",
            "Contexts:Hot Drinks & Frappees - Pret A Manger - Berlin Mitte\n",
            "\n",
            "Latte - 1,5% Milch: 4,60 €\n",
            "Matcha Latte - Hafer: 5,40 €\n",
            "Flat White 0,1% Milch: 4,40 €\n",
            "Chai Latte - 1,5% Milch: 4,90 €\n",
            "Americano: 3,80 €\n",
            "Hot Chocolate - 1,5% Milch: 4,60 €\n",
            "Macchiato - 0,1% Milch: 2,65 €\n",
            "Espresso: 2,30 €\n",
            "Hot Chocolate - Hafer: 4,60 €\n",
            "Pumpkin Spice Latte - 0,1% Milch: 5,40 €\n",
            "Cappuccino - Hafer: 4,20 €\n",
            "Chai Latte - Soja: 4,90 €\n",
            "Espresso Doppio: 3,10 €\n",
            "Lebkuchen Latte: 4,40 € \n",
            "\n",
            "How much does a Lebkuchen Latte cost at Pret a Manger in Berlin Mitte?\n",
            "\u001b[0m\n",
            "\n",
            "\u001b[1m> Finished chain.\u001b[0m\n",
            "4,40 €\n"
          ]
        }
      ],
      "source": [
        "# Executes the LLMChain with provided context and user message, and prints the result.\n",
        "print(context_chain.run({\n",
        "  'source_knowledge': source_knowledge,\n",
        "  'human_message': \"How much does a Lebkuchen Latte cost at Pret a Manger in Berlin Mitte?\"\n",
        "}))"
      ]
    },
    {
      "cell_type": "markdown",
      "metadata": {
        "id": "-y7Tj833VyTT"
      },
      "source": [
        "<a name=\"vector-db\"></a>\n",
        "# 5. Loading Data into a Vector Database"
      ]
    },
    {
      "cell_type": "markdown",
      "metadata": {
        "id": "jXoiLncsU3pe"
      },
      "source": [
        "<a name=\"data-description\"></a>\n",
        "# Data Description\n",
        "\n",
        "In the next part of this tutorial, we will build a RAG+C pipeline applied to a public policy use case. Specifically, we will create a RAG+C chatbot capable of answering questions about the Federal Acquisition Regulation (FAR) system which governs how U.S. federal government officials procure supplies and services. Our source data consists entirely of HTML files downloaded from [acquisition.gov](https://www.acquisition.gov/browse/index/far) where each HTML file represents either a section or sub-section of the FAR regulations. In total, we have nearly 3,5000 separate HTML files, each corresponding with a separate subdivision, amounting to well over 2,000 pages of rules and regulations. Each subdivision comes with its own title and reference number (e.g., FAR 25.108-2). This reference number encodes information on the part, subpart, section, and subsection where the text is located.\n",
        "\n",
        "This example is relevant to policymakers insofar as it demonstrates how LLMs can be used to provide government officials with accurate and timely information on complex regulations which must be closely followed. Such a tool would augment the capacities of government officials, facilitate knowledge transfer to new staff, and keep long-time bureaucrats up-to-date on regulatory changes."
      ]
    },
    {
      "cell_type": "markdown",
      "metadata": {
        "id": "PoF-BxSM5Jkc"
      },
      "source": [
        "## Data Download\n",
        "You can retrieve the necessary data by proceeding to [acquisition.gov](https://www.acquisition.gov/browse/index/far) and clicking on the HTML icon to download all HTML files as a zip file. Unzip the file to load all HTML files. If you are working on Google Colab, then create a new folder under \"Files\" named \"data\" and store the HTML files there. Please note that several of the these HTML files only contain metadata which are not immediately relevant to our task (e.g., Table of Contents for each FAR part), so we recommend you only keep files that align with to the reference number format described above (e.g., \"6.204\", \"25.108-2\", etc.)."
      ]
    },
    {
      "cell_type": "code",
      "execution_count": 12,
      "metadata": {
        "id": "EQoLw8kNVyTU",
        "outputId": "6a7b568e-9db0-412e-8528-0299e59b4cef"
      },
      "outputs": [
        {
          "data": {
            "text/html": [
              "<img src=\"https://raw.githubusercontent.com/smkerr/tutorial-RAG-C/main/img/acquisition-gov.png\" style=\"width: 55%\">"
            ],
            "text/plain": [
              "<IPython.core.display.HTML object>"
            ]
          },
          "execution_count": 12,
          "metadata": {},
          "output_type": "execute_result"
        }
      ],
      "source": [
        "image_path = 'https://raw.githubusercontent.com/smkerr/tutorial-RAG-C/main/img/acquisition-gov.png'\n",
        "HTML(f'<img src=\"{image_path}\" style=\"width: {image_width_percentage}%\">')"
      ]
    },
    {
      "cell_type": "markdown",
      "metadata": {
        "id": "bSt6h_Q-oqjK"
      },
      "source": [
        "## Data Preprocessing\n",
        "\n",
        "Once the HTML files have been saved locally, we can proceed to the next step: data processing!"
      ]
    },
    {
      "cell_type": "markdown",
      "metadata": {
        "id": "o5SabDtZVyTd"
      },
      "source": [
        "### Load documents\n",
        "\n",
        "We start by loading our HTML documents from the directory where they have been stored. We use LangChain's `DirectoryLoader` to convert the HTML files to LangChain `Document` objects which have some useful properties that we will leverage in subsequent steps. Since the content we are interested in extracting is contained in the paragraph elements of our HTML documents, we pass `\"parse_only: SoupStrainer(\"p\")` as a keyword argument to our loader, so that only this specific content is returned. This has the added benefit of shortening the amount of time required to load all our documents. \n",
        "\n",
        "In total, we load 3,487 documents, each corresponding with a separate section or sub-section of the FAR regulations."
      ]
    },
    {
      "cell_type": "code",
      "execution_count": null,
      "metadata": {
        "id": "_Nne1BfMVyTd",
        "outputId": "637347dd-f616-4545-f078-f319546e33f8"
      },
      "outputs": [
        {
          "name": "stderr",
          "output_type": "stream",
          "text": [
            "  4%|▍         | 153/3487 [00:00<00:04, 759.65it/s]"
          ]
        },
        {
          "name": "stderr",
          "output_type": "stream",
          "text": [
            "100%|██████████| 3487/3487 [00:04<00:00, 717.39it/s]"
          ]
        },
        {
          "name": "stdout",
          "output_type": "stream",
          "text": [
            "Loaded 3487 documents.\n"
          ]
        },
        {
          "name": "stderr",
          "output_type": "stream",
          "text": [
            "\n"
          ]
        }
      ],
      "source": [
        "# define path to HTML files\n",
        "DATA_PATH = \"data/html\"\n",
        "\n",
        "# define Beautiful Soup key word args\n",
        "bs_kwargs = {\n",
        "    \"features\": \"html.parser\",\n",
        "    \"parse_only\": SoupStrainer(\"p\") # only extract paragraphs\n",
        "}\n",
        "\n",
        "# define Loader key word args\n",
        "loader_kwargs = {\n",
        "    \"open_encoding\": \"utf-8\",\n",
        "    \"bs_kwargs\": bs_kwargs\n",
        "}\n",
        "\n",
        "# define Loader\n",
        "loader = DirectoryLoader(\n",
        "    path=DATA_PATH,\n",
        "    glob=\"*.html\",\n",
        "    loader_cls=BSHTMLLoader,\n",
        "    loader_kwargs=loader_kwargs,\n",
        "    show_progress=True\n",
        "    )\n",
        "\n",
        "# load docs\n",
        "documents = loader.load()\n",
        "\n",
        "# status message\n",
        "print(f\"Loaded {len(documents)} documents.\")"
      ]
    },
    {
      "cell_type": "markdown",
      "metadata": {
        "id": "fuEmNwMBVyTe"
      },
      "source": [
        "Next, we perform several simple data cleaning measures by removing line breaks, tabs, and excessive whitespace in order to (1) improve the appearance of the formatted text and (2) prevent excessive whitespace from contributing to the character limit of our query (discussed in more detail below). Lastly, we drop the title label (included by default by LangChain) from our metadata since it is not relevant to our RAG pipeline."
      ]
    },
    {
      "cell_type": "code",
      "execution_count": null,
      "metadata": {
        "id": "Y09kAWfmVyTe"
      },
      "outputs": [],
      "source": [
        "# clean up document content\n",
        "for doc in documents:\n",
        "    doc.page_content = doc.page_content.replace(\"\\n\", \" \").replace(\"\\t\", \" \") # remove line breaks and tabs\n",
        "    doc.page_content = re.sub(\"\\\\s+\", \" \", doc.page_content) # remove excessive whitespace\n",
        "    doc.metadata.pop(\"title\") # drop title labels"
      ]
    },
    {
      "cell_type": "markdown",
      "metadata": {
        "id": "4mHI_vfTVyTe"
      },
      "source": [
        "At this point, we can inspect the first document in our list to better understand the underlying structure of LangChain's `Document` class. Notice that each `Document` consists of two sections: `page_content` and `metadata`. The `page_content` section is quite straightforward since it simply contains the text we just parsed from our HTML files. The `metadata` section contain a single label identifying the 'source' from which the document was retrieved. While the source label conveniently contains the text's FAR reference number, it is formatted as a filepath which may lead to confusion on the part of the user."
      ]
    },
    {
      "cell_type": "code",
      "execution_count": null,
      "metadata": {
        "id": "nDmIBocqVyTf",
        "outputId": "3905f123-8607-493f-bb1f-60ea216e8536"
      },
      "outputs": [
        {
          "data": {
            "text/plain": [
              "Document(page_content='Warranties of data shall be developed and used in accordance with agency regulations.', metadata={'source': 'data/html/46.708.html'})"
            ]
          },
          "execution_count": 21,
          "metadata": {},
          "output_type": "execute_result"
        }
      ],
      "source": [
        "documents[0]"
      ]
    },
    {
      "cell_type": "markdown",
      "metadata": {
        "id": "PtZNyjZvVyTf"
      },
      "source": [
        "### Modify Source Label\n",
        "\n",
        "A more intuitive way of displaying the source of a given text would be to show the FAR citation as well as the section title. This will tell the user not only where in the FAR to look for further information but also provide a brief description of what the section pertains to so that the user can immediately weigh the relevance of a suggested source. To update our source label, we repeat the process of loading all our documents, however, this time we only extract the titles which contain both the citation and title information. In doing so, we create a list of this information and use it to update the current source labels."
      ]
    },
    {
      "cell_type": "code",
      "execution_count": null,
      "metadata": {
        "id": "SqyDmvjgVyTf",
        "outputId": "5af58fe4-706b-4d50-a1f6-9de1de01d25c"
      },
      "outputs": [
        {
          "name": "stderr",
          "output_type": "stream",
          "text": [
            "100%|██████████| 3487/3487 [00:02<00:00, 1236.47it/s]\n"
          ]
        }
      ],
      "source": [
        "# define Beautiful Soup key word args\n",
        "bs_kwargs = {\n",
        "    \"features\": \"html.parser\",\n",
        "    \"parse_only\": SoupStrainer(\"title\") # only extract titles\n",
        "}\n",
        "\n",
        "# define Loader key word args\n",
        "loader_kwargs = {\n",
        "    \"open_encoding\": \"utf-8\",\n",
        "    \"bs_kwargs\": bs_kwargs\n",
        "}\n",
        "\n",
        "loader = DirectoryLoader(\n",
        "    path=DATA_PATH,\n",
        "    glob=\"*.html\",\n",
        "    loader_cls=BSHTMLLoader,\n",
        "    loader_kwargs=loader_kwargs,\n",
        "    show_progress=True\n",
        "    )\n",
        "\n",
        "document_titles = loader.load()\n",
        "\n",
        "# convert source metadata into a list\n",
        "title_list = [doc.metadata[\"title\"] for doc in document_titles]\n",
        "\n",
        "# update source labels\n",
        "i = 0\n",
        "for doc in documents:\n",
        "    doc.metadata[\"source\"] = \" \".join([\"FAR\", title_list[i]])\n",
        "    i += 1"
      ]
    },
    {
      "cell_type": "markdown",
      "metadata": {
        "id": "LowOI-Q-VyTg"
      },
      "source": [
        "We can inspect our work to evaluate whether these source labels are more intuitive."
      ]
    },
    {
      "cell_type": "code",
      "execution_count": null,
      "metadata": {
        "id": "USfkbk5eVyTg",
        "outputId": "44de0c51-d175-4219-a6fd-54485ee1fe72"
      },
      "outputs": [
        {
          "data": {
            "text/plain": [
              "[{'source': 'FAR 46.708 Warranties of data.'},\n",
              " {'source': 'FAR 9.405 Effect of listing.'},\n",
              " {'source': 'FAR 11.106 Purchase descriptions for service contracts.'},\n",
              " {'source': 'FAR 16.204 Fixed-price incentive contracts.'},\n",
              " {'source': 'FAR 7.201 [Reserved]'}]"
            ]
          },
          "execution_count": 23,
          "metadata": {},
          "output_type": "execute_result"
        }
      ],
      "source": [
        "doc_metadata = [doc.metadata  for doc in documents]\n",
        "doc_metadata[:5]"
      ]
    },
    {
      "cell_type": "markdown",
      "metadata": {
        "id": "z8Df_U0sVyTg"
      },
      "source": [
        "## Create Vector Database\n",
        "\n",
        "Now that we have our documents loaded with metadata labels the way we want them to be, our next step is to store these documents in a vector database. These vector databases work by transforming documents into numerical vector representations using a text embedding model.\n",
        "\n",
        "For this tutorial, we use the [all-MiniLM-L6-v2](https://huggingface.co/sentence-transformers/all-MiniLM-L6-v2) model made available by Hugging Face which maps texts to a 384 dimensional dense vector space. The original document is then stored along with its numerical vector representation and its metadata labels in the vector database. Compared to traditional databases which might return items based on a direct match with key search terms, a query made to a vector database is converted to a numerical vector using the same text embedding model applied to the documents stored within the database. The level of similarity between the numerical vector representation of the query and all the numerical vector representations of the documents is then computed. Typically, [cosine similarity](https://www.geeksforgeeks.org/cosine-similarity/) is the metric used to determine how similar two documents are to one another but [other methods do exist](https://towardsdatascience.com/5-data-similarity-metrics-f358a560855f) and several vector database providers have even developed their own methods for determining similarity.\n",
        "\n",
        "For this tutorial, we use [Chroma](https://www.trychroma.com/), an open-source vector database which [integrates well with LangChain](https://python.langchain.com/docs/integrations/vectorstores/chroma). In just a few lines of code, we specify the embedding model we would like Chroma to use ([all-MiniLM-L6-v2](https://huggingface.co/sentence-transformers/all-MiniLM-L6-v2)), specify the folder we would like our Chroma database files to be stored locally (note: the folder will be created if it does not already exist), and begin uploading our documents to our Chroma database. Please note that prior to creating our Chroma database, we remove any pre-existing Chroma files. By starting fresh each time, we ensure that we do not add duplicate documents to the same database."
      ]
    },
    {
      "cell_type": "code",
      "execution_count": null,
      "metadata": {
        "id": "tZj1iEYbVyTh",
        "outputId": "31ec2e63-ac6e-457c-9586-318f4323d8c6"
      },
      "outputs": [
        {
          "name": "stdout",
          "output_type": "stream",
          "text": [
            "Saved 3487 chunks to chroma_db.\n"
          ]
        }
      ],
      "source": [
        "# define embedding model\n",
        "EMBED_MODEL = \"all-MiniLM-L6-v2\"\n",
        "\n",
        "# load embedding function\n",
        "embedding_function = SentenceTransformerEmbeddings(model_name=EMBED_MODEL)\n",
        "\n",
        "# define file path for db\n",
        "CHROMA_PATH = \"chroma_db\"\n",
        "\n",
        "# first, clear out current db\n",
        "if os.path.exists(CHROMA_PATH):\n",
        "    shutil.rmtree(CHROMA_PATH)\n",
        "\n",
        "# initialize Chroma db and save locally\n",
        "db = Chroma.from_documents(\n",
        "    documents=documents, embedding=embedding_function, persist_directory=CHROMA_PATH\n",
        "    )\n",
        "db.persist()\n",
        "\n",
        "# status message\n",
        "print(f\"Saved {len(documents)} chunks to {CHROMA_PATH}.\")"
      ]
    },
    {
      "cell_type": "markdown",
      "metadata": {
        "id": "B13SmqZ7VyTh"
      },
      "source": [
        "To test whether our vector database is functioning properly, we provide it with a query and see whether Chroma returns the most relevant documents from our database. Here we ask it about the purpose of the FAR and use the `similarity_search_with_relevance_scores()` method with a minimum relevance score threshold of 50% while allowing for up to four documents to be returned."
      ]
    },
    {
      "cell_type": "code",
      "execution_count": null,
      "metadata": {
        "id": "x352SrlVVyTh",
        "outputId": "d432a82b-f7f7-4994-e5d5-692f7f2f23f2"
      },
      "outputs": [
        {
          "data": {
            "text/plain": [
              "[(Document(page_content='The Federal Acquisition Regulations System is established for the codification and publication of uniform policies and procedures for acquisition by all executive agencies. The Federal Acquisition Regulations System consists of the Federal Acquisition Regulation (FAR), which is the primary document, and agency acquisition regulations that implement or supplement the FAR. The FAR System does not include internal agency guidance of the type described in 1.301(a)(2).', metadata={'source': 'FAR 1.101 Purpose.'}),\n",
              "  0.677825443885269),\n",
              " (Document(page_content='This part sets forth basic policies and general information about the Federal Acquisition Regulations System including purpose, authority, applicability, issuance, arrangement, numbering, dissemination, implementation, supplementation, maintenance, administration, and deviation. subparts 1.2,1.3, and 1.4 prescribe administrative procedures for maintaining the FAR System.', metadata={'source': 'FAR 1.000 Scope of part.'}),\n",
              "  0.6351669326334527)]"
            ]
          },
          "execution_count": 25,
          "metadata": {},
          "output_type": "execute_result"
        }
      ],
      "source": [
        "# query vector db\n",
        "query = \"What is the purpose of the Federal Acquisition Regulations?\"\n",
        "matching_docs = db.similarity_search_with_relevance_scores(\n",
        "    query=query,\n",
        "    k=4, # number of docs to return\n",
        "    score_threshold=.5 # min releavance score required\n",
        "    )\n",
        "matching_docs"
      ]
    },
    {
      "cell_type": "markdown",
      "metadata": {
        "id": "hNp-d5DQVyTi"
      },
      "source": [
        "While it may take some time to read through the documents it has returned in order to make assessment, the fact alone that the source label for the document which has been rated most relevant (with a score of 67.8%) contains \"purpose\" in its title is a good indication that our Chroma database is working as intended."
      ]
    },
    {
      "cell_type": "markdown",
      "metadata": {
        "id": "D5KXhWjEVyTi"
      },
      "source": [
        "<a name=\"rag-pipeline\"></a>\n",
        "# 6. RAG Pipeline"
      ]
    },
    {
      "cell_type": "markdown",
      "metadata": {
        "id": "ZpZtOD2dVyTi"
      },
      "source": [
        "Now that we have configured our vector database, we bring together the concepts we have covered so far to build our very own RAG pipeline. The idea is to create a function that will accept a question as input. Based on this question, our vector database will return the five documents calculated to be most relevant to the question at hand. Only documents with a relevance score greater than 50% will be returned. The content from these documents will then be pasted directly into the prompt given to our LLM. We automatically trim content that exceeds this threshold of 1000 words in order to speed up the inference process. Based on the prompt, our LLM should then provide us an informed response. This assumption only holds so long as the question is related to content contained in the vector database. As such, our RAG model will not be able to address questions outside of the scope of the FAR regulations."
      ]
    },
    {
      "cell_type": "code",
      "execution_count": null,
      "metadata": {
        "id": "RrDJ2CkBVyTi"
      },
      "outputs": [],
      "source": [
        "PROMPT_TEMPLATE = \"\"\"\n",
        "Answer the question based only on the following context:\n",
        "\n",
        "{context}\n",
        "\n",
        "---\n",
        "\n",
        "Answer the question based on the above context: {question}\n",
        "\"\"\"\n",
        "\n",
        "def RAG(query_text):\n",
        "\n",
        "    # search vector db\n",
        "    results = db.similarity_search_with_relevance_scores(query_text, k=5, score_threshold=.5)\n",
        "    if len(results) == 0 or results[0][1] < 0.5:\n",
        "        print(f\"Unable to find matching results.\")\n",
        "\n",
        "    # add content from search results to prompt\n",
        "    context_text = \"\\n\\n---\\n\\n\".join([doc.page_content for doc, _score in results])\n",
        "    if len(context_text) > 1000: # handle character limit\n",
        "        context_text = context_text[:1000]\n",
        "        print(\"Warning: Context exceeded 1000 characters, trimming from the end.\")\n",
        "\n",
        "    # define prompt template\n",
        "    prompt_template=PromptTemplate(template=PROMPT_TEMPLATE, input_variables=[\"context\",  \"question\"])\n",
        "\n",
        "    # initialize LLMChain\n",
        "    chain = LLMChain(llm=conv_model, prompt=prompt_template, verbose=True)\n",
        "\n",
        "    # generate response based on context and question\n",
        "    response_text = chain.run({\"context\": context_text, \"question\": query_text})\n",
        "\n",
        "    # extract sources from search results\n",
        "    sources = [doc.metadata.get(\"source\", None) for doc, _score in results]\n",
        "\n",
        "    # format and print response with sources\n",
        "    formatted_response = f\"Response: {response_text} \\n Sources: {sources}\"\n",
        "    print(formatted_response)\n",
        "\n",
        "    return response_text"
      ]
    },
    {
      "cell_type": "markdown",
      "metadata": {
        "id": "XEkUIGxEVyTj"
      },
      "source": [
        "We can test our RAG pipeline by passing it a question. Here we ask the model to define the role of the Contracting Officer, a key stakeholder in the public procurement process."
      ]
    },
    {
      "cell_type": "code",
      "execution_count": null,
      "metadata": {
        "id": "PFQhUct0VyTj",
        "outputId": "34c8567d-7340-4b71-9ff4-df8831e71b86"
      },
      "outputs": [
        {
          "name": "stdout",
          "output_type": "stream",
          "text": [
            "Warning: Context exceeded 1000 characters, trimming from the end.\n",
            "\n",
            "\n",
            "\u001b[1m> Entering new LLMChain chain...\u001b[0m\n",
            "Prompt after formatting:\n",
            "\u001b[32;1m\u001b[1;3m\n",
            "Answer the question based only on the following context:\n",
            "\n",
            "The contracting officer shall cooperate with Department of Labor representatives in the examination of records, interviews with service employees, and all other aspects of investigations undertaken by the Department. When asked, agencies shall furnish the Wage and Hour Administrator or a designee, any available information on contractors, subcontractors, their contracts, and the nature of the contract services. The contracting officer shall promptly refer, in writing to the appropriate regional office of the Department, apparent violations and complaints received. Employee complaints shall not be disclosed to the employer.\n",
            "\n",
            "---\n",
            "\n",
            "Contracting officers are responsible for ensuring performance of all necessary actions for effective contracting, ensuring compliance with the terms of the contract, and safeguarding the interests of the United States in its contractual relationships. In order to perform these responsibilities, contracting officers should be allowed wide latitude to exercise bu\n",
            "\n",
            "---\n",
            "\n",
            "Answer the question based on the above context: What is a contracting officer?\n",
            "\u001b[0m\n"
          ]
        },
        {
          "name": "stdout",
          "output_type": "stream",
          "text": [
            "\n",
            "\u001b[1m> Finished chain.\u001b[0m\n",
            "Response: A contracting officer is a government employee who is responsible for administering contracts with contractors or grantees in order to ensure compliance with the contract requirements. They are responsible for negotiating the terms and conditions of the contract, ensuring the timely performance of the contractor, and resolving disputes that may arise during the contract period. \n",
            " Sources: ['FAR 22.1024 Cooperation with the Department of Labor.', 'FAR 1.602-2 Responsibilities.', 'FAR 1.602-1 Authority.', 'FAR 42.601 General.', 'FAR 25.301-3 Weapons.']\n"
          ]
        },
        {
          "data": {
            "text/plain": [
              "'A contracting officer is a government employee who is responsible for administering contracts with contractors or grantees in order to ensure compliance with the contract requirements. They are responsible for negotiating the terms and conditions of the contract, ensuring the timely performance of the contractor, and resolving disputes that may arise during the contract period.'"
            ]
          },
          "execution_count": 27,
          "metadata": {},
          "output_type": "execute_result"
        }
      ],
      "source": [
        "RAG(\"What is a contracting officer?\")"
      ]
    },
    {
      "cell_type": "markdown",
      "metadata": {
        "id": "MX0zpbOZVyTj"
      },
      "source": [
        "Based on the output, the RAG model's output seems informative. The sources it cites appear reasonable, particularly at the start of the list which corresponds with the texts deemed most relevant."
      ]
    },
    {
      "cell_type": "markdown",
      "metadata": {
        "id": "fVg6BFRHVyTk"
      },
      "source": [
        "<a name=\"evaluation\"></a>\n",
        "# 7. Model Evaluation\n",
        "\n",
        "Due to the subject matter expertise required to properly evaluate our RAG model's performance, it is difficult to trust our own judgement when it comes to determining how effective the model is. In order to evaluate our model in a more or less objective way, we have sourced fifty questions and answers from training materials that were created with the express purpose of preparing government officials for their procurement licensing examinations. Only questions and answers directly relating to the FAR were included.\n",
        "\n",
        "Some questions and answers have been lightly edited to match the format expected by a chat bot. For example, one question which states \"This type of contract provides for the purchase of supplies or services for more than one, but not more than five program years\" has been re-worded as a question: \"What type of contract provides for the purchase of supplies or services for more than one, but not more than five program years?\" This is not intended to bias our evaluation but rather to make our questions compatible with our open-source LLM.\n",
        "\n",
        "These question and answers have been saved to a spreadsheet which can be found under `data/xlsx/RAG_evaluation_input.xlsx`. Here we show a preview of the types of questions and answers are included in our evaluation. Note that columns for responses and similarity scores are currently empty. These will be populated automatically at a later stage of the evaluation."
      ]
    },
    {
      "cell_type": "code",
      "execution_count": null,
      "metadata": {
        "id": "prlgAfM1VyTk",
        "outputId": "21356ea4-7a14-475b-a158-4c8d822328dd"
      },
      "outputs": [
        {
          "name": "stdout",
          "output_type": "stream",
          "text": [
            "50 human-generated questions and answers\n"
          ]
        },
        {
          "data": {
            "text/html": [
              "<div>\n",
              "<style scoped>\n",
              "    .dataframe tbody tr th:only-of-type {\n",
              "        vertical-align: middle;\n",
              "    }\n",
              "\n",
              "    .dataframe tbody tr th {\n",
              "        vertical-align: top;\n",
              "    }\n",
              "\n",
              "    .dataframe thead th {\n",
              "        text-align: right;\n",
              "    }\n",
              "</style>\n",
              "<table border=\"1\" class=\"dataframe\">\n",
              "  <thead>\n",
              "    <tr style=\"text-align: right;\">\n",
              "      <th></th>\n",
              "      <th>question</th>\n",
              "      <th>question_edited</th>\n",
              "      <th>answer</th>\n",
              "      <th>answer_edited</th>\n",
              "      <th>response_no_context</th>\n",
              "      <th>response_context</th>\n",
              "      <th>similarity_score_no_context</th>\n",
              "      <th>similarity_score_context</th>\n",
              "      <th>source</th>\n",
              "    </tr>\n",
              "  </thead>\n",
              "  <tbody>\n",
              "    <tr>\n",
              "      <th>0</th>\n",
              "      <td>True or False? Contractors who provide product...</td>\n",
              "      <td>Is it true that contractors who provide produc...</td>\n",
              "      <td>True. Both FAR 1.102(b)(c) and FAR 1.102-3 not...</td>\n",
              "      <td>True. Both FAR 1.102(b)(c) and FAR 1.102-3 not...</td>\n",
              "      <td>NaN</td>\n",
              "      <td>NaN</td>\n",
              "      <td>NaN</td>\n",
              "      <td>NaN</td>\n",
              "      <td>https://publiccontractinginstitute.com/far-kno...</td>\n",
              "    </tr>\n",
              "    <tr>\n",
              "      <th>1</th>\n",
              "      <td>Who are the principal customers for the produc...</td>\n",
              "      <td>Who are the principal customers for the produc...</td>\n",
              "      <td>FAR 1.102-2 provides that the principal custom...</td>\n",
              "      <td>FAR 1.102-2 provides that the principal custom...</td>\n",
              "      <td>NaN</td>\n",
              "      <td>NaN</td>\n",
              "      <td>NaN</td>\n",
              "      <td>NaN</td>\n",
              "      <td>https://publiccontractinginstitute.com/far-kno...</td>\n",
              "    </tr>\n",
              "    <tr>\n",
              "      <th>2</th>\n",
              "      <td>True or False? A contracting officer may unila...</td>\n",
              "      <td>Can a contracting officer unilaterally incorpo...</td>\n",
              "      <td>False. FAR 1.108(d)(3) provides that “Contract...</td>\n",
              "      <td>False. FAR 1.108(d)(3) provides that “Contract...</td>\n",
              "      <td>NaN</td>\n",
              "      <td>NaN</td>\n",
              "      <td>NaN</td>\n",
              "      <td>NaN</td>\n",
              "      <td>https://publiccontractinginstitute.com/far-kno...</td>\n",
              "    </tr>\n",
              "    <tr>\n",
              "      <th>3</th>\n",
              "      <td>What three government officials are personally...</td>\n",
              "      <td>What three government officials are personally...</td>\n",
              "      <td>FAR 1.202 provides that “Agency compliance wit...</td>\n",
              "      <td>FAR 1.202 provides that “Agency compliance wit...</td>\n",
              "      <td>NaN</td>\n",
              "      <td>NaN</td>\n",
              "      <td>NaN</td>\n",
              "      <td>NaN</td>\n",
              "      <td>https://publiccontractinginstitute.com/far-kno...</td>\n",
              "    </tr>\n",
              "    <tr>\n",
              "      <th>4</th>\n",
              "      <td>What is a D&amp;F?</td>\n",
              "      <td>What is a D&amp;F?</td>\n",
              "      <td>FAR 1.701 provides that a “Determination and F...</td>\n",
              "      <td>FAR 1.701 provides that a “Determination and F...</td>\n",
              "      <td>NaN</td>\n",
              "      <td>NaN</td>\n",
              "      <td>NaN</td>\n",
              "      <td>NaN</td>\n",
              "      <td>https://publiccontractinginstitute.com/far-kno...</td>\n",
              "    </tr>\n",
              "  </tbody>\n",
              "</table>\n",
              "</div>"
            ],
            "text/plain": [
              "                                            question  \\\n",
              "0  True or False? Contractors who provide product...   \n",
              "1  Who are the principal customers for the produc...   \n",
              "2  True or False? A contracting officer may unila...   \n",
              "3  What three government officials are personally...   \n",
              "4                                     What is a D&F?   \n",
              "\n",
              "                                     question_edited  \\\n",
              "0  Is it true that contractors who provide produc...   \n",
              "1  Who are the principal customers for the produc...   \n",
              "2  Can a contracting officer unilaterally incorpo...   \n",
              "3  What three government officials are personally...   \n",
              "4                                     What is a D&F?   \n",
              "\n",
              "                                              answer  \\\n",
              "0  True. Both FAR 1.102(b)(c) and FAR 1.102-3 not...   \n",
              "1  FAR 1.102-2 provides that the principal custom...   \n",
              "2  False. FAR 1.108(d)(3) provides that “Contract...   \n",
              "3  FAR 1.202 provides that “Agency compliance wit...   \n",
              "4  FAR 1.701 provides that a “Determination and F...   \n",
              "\n",
              "                                       answer_edited  response_no_context  \\\n",
              "0  True. Both FAR 1.102(b)(c) and FAR 1.102-3 not...                  NaN   \n",
              "1  FAR 1.102-2 provides that the principal custom...                  NaN   \n",
              "2  False. FAR 1.108(d)(3) provides that “Contract...                  NaN   \n",
              "3  FAR 1.202 provides that “Agency compliance wit...                  NaN   \n",
              "4  FAR 1.701 provides that a “Determination and F...                  NaN   \n",
              "\n",
              "   response_context  similarity_score_no_context  similarity_score_context  \\\n",
              "0               NaN                          NaN                       NaN   \n",
              "1               NaN                          NaN                       NaN   \n",
              "2               NaN                          NaN                       NaN   \n",
              "3               NaN                          NaN                       NaN   \n",
              "4               NaN                          NaN                       NaN   \n",
              "\n",
              "                                              source  \n",
              "0  https://publiccontractinginstitute.com/far-kno...  \n",
              "1  https://publiccontractinginstitute.com/far-kno...  \n",
              "2  https://publiccontractinginstitute.com/far-kno...  \n",
              "3  https://publiccontractinginstitute.com/far-kno...  \n",
              "4  https://publiccontractinginstitute.com/far-kno...  "
            ]
          },
          "execution_count": 28,
          "metadata": {},
          "output_type": "execute_result"
        }
      ],
      "source": [
        "# load spreadsheet\n",
        "df = pd.read_excel('data/xlsx/RAG_evaluation_input.xlsx')\n",
        "print(f\"{df.shape[0]} human-generated questions and answers\")\n",
        "df.head(5)"
      ]
    },
    {
      "cell_type": "markdown",
      "metadata": {
        "id": "rq9xEqvLVyTk"
      },
      "source": [
        "For each question, we generate both a response from the model *without* context and *with* context. The responses generated without context will serve as our baseline since it represents the response we would expect to have received in the absence of a RAG mechanism. Next, we apply the same text embedding model as we used for our vector database (i.e., [all-MiniLM-L6-v2](https://huggingface.co/sentence-transformers/all-MiniLM-L6-v2)) to our human-generated answers to convert them to numerical vectors. We then do the same with the responses generated by the standalone LLM-model (baseline) and the RAG+C enhanced LLM. Using these embeddings, we can then compare these models to the ground truth by computing their respective cosine similarity."
      ]
    },
    {
      "cell_type": "code",
      "execution_count": null,
      "metadata": {
        "id": "NMPGx6AFVyTk"
      },
      "outputs": [],
      "source": [
        "%%capture\n",
        "\n",
        "# create list of questions\n",
        "question_list = df[\"question_edited\"]\n",
        "\n",
        "# generate baseline responses (not based on context)\n",
        "baseline_response_list = [conv_chain.run(question) for question in question_list]\n",
        "\n",
        "# generate responses (based on context)\n",
        "response_list = [RAG(question) for question in question_list]\n",
        "\n",
        "# create list of answers\n",
        "answer_list = df[\"answer_edited\"]\n",
        "\n",
        "# load embedding model\n",
        "embedding_model = SentenceTransformer(model_name_or_path=EMBED_MODEL)\n",
        "\n",
        "# convert answers to embeddings\n",
        "answer_embeddings = [embedding_model.encode(answer) for answer in answer_list]\n",
        "\n",
        "# compute embeddings for responses without context\n",
        "baseline_response_embeddings = []\n",
        "for response in baseline_response_list:\n",
        "    if response is None:\n",
        "        embedding = pd.NA\n",
        "    else:\n",
        "        embedding = embedding_model.encode(response)\n",
        "    baseline_response_embeddings.append(embedding)\n",
        "\n",
        "# compute embeddings for responses with context\n",
        "response_embeddings = []\n",
        "for response in response_list:\n",
        "    if response is None:\n",
        "        embedding = pd.NA\n",
        "    else:\n",
        "        embedding = embedding_model.encode(response)\n",
        "    response_embeddings.append(embedding)\n",
        "\n",
        "# reshape embeddings to 2D arrays (required by cosine_similarity)\n",
        "answer_embeddings = [np.reshape(embedding, (1, -1)) for embedding in answer_embeddings]\n",
        "response_embeddings = [np.reshape(embedding, (1, -1)) for embedding in response_embeddings]\n",
        "baseline_response_embeddings = [np.reshape(embedding, (1, -1)) for embedding in baseline_response_embeddings]\n",
        "\n",
        "# calculate similarity scores\n",
        "# questions vs responses with context\n",
        "similarity_scores = []\n",
        "for a_embedding, r_embedding in zip(answer_embeddings, response_embeddings):\n",
        "    if pd.isna(r_embedding).any():\n",
        "        score = pd.NA\n",
        "    else:\n",
        "        score = cosine_similarity(a_embedding, r_embedding).item()\n",
        "    similarity_scores.append(score)\n",
        "\n",
        "# questions vs responses without context\n",
        "baseline_similarity_scores = []\n",
        "for a_embedding, br_embedding in zip(answer_embeddings, baseline_response_embeddings):\n",
        "    if pd.isna(br_embedding).any():\n",
        "        score = pd.NA\n",
        "    else:\n",
        "        score = cosine_similarity(a_embedding, br_embedding).item()\n",
        "    baseline_similarity_scores.append(score)"
      ]
    },
    {
      "cell_type": "markdown",
      "metadata": {
        "id": "u2jCbQelVyTl"
      },
      "source": [
        "Lastly, we add the generated responses and corresponding similarity scores to our dataframe. Below you will find a glimpse of the populated dataframe."
      ]
    },
    {
      "cell_type": "code",
      "execution_count": null,
      "metadata": {
        "id": "r5JZicWoVyTl",
        "outputId": "400e628b-cee6-4e64-e4f7-adb34c7abc47"
      },
      "outputs": [
        {
          "data": {
            "text/html": [
              "<div>\n",
              "<style scoped>\n",
              "    .dataframe tbody tr th:only-of-type {\n",
              "        vertical-align: middle;\n",
              "    }\n",
              "\n",
              "    .dataframe tbody tr th {\n",
              "        vertical-align: top;\n",
              "    }\n",
              "\n",
              "    .dataframe thead th {\n",
              "        text-align: right;\n",
              "    }\n",
              "</style>\n",
              "<table border=\"1\" class=\"dataframe\">\n",
              "  <thead>\n",
              "    <tr style=\"text-align: right;\">\n",
              "      <th></th>\n",
              "      <th>question</th>\n",
              "      <th>question_edited</th>\n",
              "      <th>answer</th>\n",
              "      <th>answer_edited</th>\n",
              "      <th>response_no_context</th>\n",
              "      <th>response_context</th>\n",
              "      <th>similarity_score_no_context</th>\n",
              "      <th>similarity_score_context</th>\n",
              "      <th>source</th>\n",
              "    </tr>\n",
              "  </thead>\n",
              "  <tbody>\n",
              "    <tr>\n",
              "      <th>0</th>\n",
              "      <td>True or False? Contractors who provide product...</td>\n",
              "      <td>Is it true that contractors who provide produc...</td>\n",
              "      <td>True. Both FAR 1.102(b)(c) and FAR 1.102-3 not...</td>\n",
              "      <td>True. Both FAR 1.102(b)(c) and FAR 1.102-3 not...</td>\n",
              "      <td>According to Federal Acquisition Regulation (F...</td>\n",
              "      <td>No</td>\n",
              "      <td>0.719175</td>\n",
              "      <td>0.084247</td>\n",
              "      <td>https://publiccontractinginstitute.com/far-kno...</td>\n",
              "    </tr>\n",
              "    <tr>\n",
              "      <th>1</th>\n",
              "      <td>Who are the principal customers for the produc...</td>\n",
              "      <td>Who are the principal customers for the produc...</td>\n",
              "      <td>FAR 1.102-2 provides that the principal custom...</td>\n",
              "      <td>FAR 1.102-2 provides that the principal custom...</td>\n",
              "      <td>The principal customers for the products and s...</td>\n",
              "      <td>The Federal Acquisition System (FAS) serves as...</td>\n",
              "      <td>0.455638</td>\n",
              "      <td>0.244849</td>\n",
              "      <td>https://publiccontractinginstitute.com/far-kno...</td>\n",
              "    </tr>\n",
              "    <tr>\n",
              "      <th>2</th>\n",
              "      <td>True or False? A contracting officer may unila...</td>\n",
              "      <td>Can a contracting officer unilaterally incorpo...</td>\n",
              "      <td>False. FAR 1.108(d)(3) provides that “Contract...</td>\n",
              "      <td>False. FAR 1.108(d)(3) provides that “Contract...</td>\n",
              "      <td>No, it is not common for a contracting officer...</td>\n",
              "      <td>As an AI language model, I cannot provide lega...</td>\n",
              "      <td>0.659838</td>\n",
              "      <td>0.645821</td>\n",
              "      <td>https://publiccontractinginstitute.com/far-kno...</td>\n",
              "    </tr>\n",
              "    <tr>\n",
              "      <th>3</th>\n",
              "      <td>What three government officials are personally...</td>\n",
              "      <td>What three government officials are personally...</td>\n",
              "      <td>FAR 1.202 provides that “Agency compliance wit...</td>\n",
              "      <td>FAR 1.202 provides that “Agency compliance wit...</td>\n",
              "      <td>1. Secretary of Defense\\n2. Chief of Staff\\n3....</td>\n",
              "      <td>\\nThe three government officials responsible f...</td>\n",
              "      <td>0.509940</td>\n",
              "      <td>0.533886</td>\n",
              "      <td>https://publiccontractinginstitute.com/far-kno...</td>\n",
              "    </tr>\n",
              "    <tr>\n",
              "      <th>4</th>\n",
              "      <td>What is a D&amp;F?</td>\n",
              "      <td>What is a D&amp;F?</td>\n",
              "      <td>FAR 1.701 provides that a “Determination and F...</td>\n",
              "      <td>FAR 1.701 provides that a “Determination and F...</td>\n",
              "      <td>I'm sorry, but I am not familiar with the term...</td>\n",
              "      <td>\\nThe question is ambiguous as it does not spe...</td>\n",
              "      <td>0.107604</td>\n",
              "      <td>0.183559</td>\n",
              "      <td>https://publiccontractinginstitute.com/far-kno...</td>\n",
              "    </tr>\n",
              "  </tbody>\n",
              "</table>\n",
              "</div>"
            ],
            "text/plain": [
              "                                            question  \\\n",
              "0  True or False? Contractors who provide product...   \n",
              "1  Who are the principal customers for the produc...   \n",
              "2  True or False? A contracting officer may unila...   \n",
              "3  What three government officials are personally...   \n",
              "4                                     What is a D&F?   \n",
              "\n",
              "                                     question_edited  \\\n",
              "0  Is it true that contractors who provide produc...   \n",
              "1  Who are the principal customers for the produc...   \n",
              "2  Can a contracting officer unilaterally incorpo...   \n",
              "3  What three government officials are personally...   \n",
              "4                                     What is a D&F?   \n",
              "\n",
              "                                              answer  \\\n",
              "0  True. Both FAR 1.102(b)(c) and FAR 1.102-3 not...   \n",
              "1  FAR 1.102-2 provides that the principal custom...   \n",
              "2  False. FAR 1.108(d)(3) provides that “Contract...   \n",
              "3  FAR 1.202 provides that “Agency compliance wit...   \n",
              "4  FAR 1.701 provides that a “Determination and F...   \n",
              "\n",
              "                                       answer_edited  \\\n",
              "0  True. Both FAR 1.102(b)(c) and FAR 1.102-3 not...   \n",
              "1  FAR 1.102-2 provides that the principal custom...   \n",
              "2  False. FAR 1.108(d)(3) provides that “Contract...   \n",
              "3  FAR 1.202 provides that “Agency compliance wit...   \n",
              "4  FAR 1.701 provides that a “Determination and F...   \n",
              "\n",
              "                                 response_no_context  \\\n",
              "0  According to Federal Acquisition Regulation (F...   \n",
              "1  The principal customers for the products and s...   \n",
              "2  No, it is not common for a contracting officer...   \n",
              "3  1. Secretary of Defense\\n2. Chief of Staff\\n3....   \n",
              "4  I'm sorry, but I am not familiar with the term...   \n",
              "\n",
              "                                    response_context  \\\n",
              "0                                                 No   \n",
              "1  The Federal Acquisition System (FAS) serves as...   \n",
              "2  As an AI language model, I cannot provide lega...   \n",
              "3  \\nThe three government officials responsible f...   \n",
              "4  \\nThe question is ambiguous as it does not spe...   \n",
              "\n",
              "   similarity_score_no_context  similarity_score_context  \\\n",
              "0                     0.719175                  0.084247   \n",
              "1                     0.455638                  0.244849   \n",
              "2                     0.659838                  0.645821   \n",
              "3                     0.509940                  0.533886   \n",
              "4                     0.107604                  0.183559   \n",
              "\n",
              "                                              source  \n",
              "0  https://publiccontractinginstitute.com/far-kno...  \n",
              "1  https://publiccontractinginstitute.com/far-kno...  \n",
              "2  https://publiccontractinginstitute.com/far-kno...  \n",
              "3  https://publiccontractinginstitute.com/far-kno...  \n",
              "4  https://publiccontractinginstitute.com/far-kno...  "
            ]
          },
          "execution_count": 30,
          "metadata": {},
          "output_type": "execute_result"
        }
      ],
      "source": [
        "# add responses and similarity scores to df\n",
        "df[\"response_context\"] = response_list\n",
        "df[\"response_no_context\"] = baseline_response_list\n",
        "df[\"similarity_score_no_context\"] = baseline_similarity_scores\n",
        "df[\"similarity_score_context\"] = similarity_scores\n",
        "\n",
        "# save xlslx\n",
        "df.to_excel(\"data/xlsx/RAG_evaluation_output.xlsx\")\n",
        "\n",
        "# inspect df\n",
        "df.head(5)"
      ]
    },
    {
      "cell_type": "markdown",
      "metadata": {
        "id": "rxw9ZqDGVyTm"
      },
      "source": [
        "## Results & Discussion"
      ]
    },
    {
      "cell_type": "code",
      "execution_count": null,
      "metadata": {
        "id": "TSsZs0ICVyTm",
        "outputId": "42c685c3-4621-4d7e-b539-4c22b364dbb8"
      },
      "outputs": [
        {
          "data": {
            "text/html": [
              "<div>\n",
              "<style scoped>\n",
              "    .dataframe tbody tr th:only-of-type {\n",
              "        vertical-align: middle;\n",
              "    }\n",
              "\n",
              "    .dataframe tbody tr th {\n",
              "        vertical-align: top;\n",
              "    }\n",
              "\n",
              "    .dataframe thead th {\n",
              "        text-align: right;\n",
              "    }\n",
              "</style>\n",
              "<table border=\"1\" class=\"dataframe\">\n",
              "  <thead>\n",
              "    <tr style=\"text-align: right;\">\n",
              "      <th></th>\n",
              "      <th>model</th>\n",
              "      <th>avg_similarity_score</th>\n",
              "      <th>response_rate</th>\n",
              "    </tr>\n",
              "  </thead>\n",
              "  <tbody>\n",
              "    <tr>\n",
              "      <th>0</th>\n",
              "      <td>Baseline</td>\n",
              "      <td>0.318718</td>\n",
              "      <td>100.0</td>\n",
              "    </tr>\n",
              "    <tr>\n",
              "      <th>1</th>\n",
              "      <td>RAG</td>\n",
              "      <td>0.363935</td>\n",
              "      <td>100.0</td>\n",
              "    </tr>\n",
              "  </tbody>\n",
              "</table>\n",
              "</div>"
            ],
            "text/plain": [
              "      model  avg_similarity_score  response_rate\n",
              "0  Baseline              0.318718          100.0\n",
              "1       RAG              0.363935          100.0"
            ]
          },
          "execution_count": 31,
          "metadata": {},
          "output_type": "execute_result"
        }
      ],
      "source": [
        "# create summary table\n",
        "summary_df = pd.DataFrame({\n",
        "    \"model\": [\"Baseline\", \"RAG\"],\n",
        "    \"avg_similarity_score\": [pd.Series(baseline_similarity_scores).mean(skipna=True),\n",
        "                             pd.Series(similarity_scores).mean(skipna=True)],\n",
        "    \"response_rate\": [(pd.Series(baseline_similarity_scores).count() / len(baseline_similarity_scores) * 100),\n",
        "                    (pd.Series(similarity_scores).count() / len(similarity_scores) * 100)]\n",
        "                    })\n",
        "summary_df"
      ]
    },
    {
      "cell_type": "markdown",
      "metadata": {
        "id": "ZZtGaJqGVyTn"
      },
      "source": [
        "By comparing the average similarity scores between the human-generated answer and our respective responses, we can see that the RAG model produces responses with a higher level of semantic similarity than the baseline model, supporting our hypothesis that additional external context improves the relevance of responses. While we cannot draw any definitive conclusions about the precision and accuracy of our RAG model using semantic similarity as an evaluation method, we can at least consider the model to be better-performing relative to the baseline.\n",
        "\n",
        "These results, and particularly the absolute similarity score should be treated with care. One concern relates to extent to which the similarity score also picks up differences in style, additional to information truth. Put differently, a model might get the information perfectly right in its answer, however, if it frames it vastly differently to the ground truth, the associated similarity score might still be low. However, since this dynamic should affect both the baseline and RAG model similarly, a relative comparison of the two still seems valid. Nevertheless, an extension of this evaluation would not only develop a broader set of validation questions, but should ideally also rely on human evaluators with domain knowledge to assess the accuracy of the models' answers.\n",
        "\n",
        "Independent of any concerns regarding accurate measurement, there exist obvious avenues to boost model performance. For instance, one might treat the separation of the FAR handbook into text chunks as a hyperparamter, whereby greater granularity could improve the relevance of content returned by the vector database, although this may come at the expense of losing additional context. More testing would be required to determine what level of granularity optimizes the quality of the model response. Furthermore, our pipeline is limited to using free and open-source models even while better LLMs do exist. A straightforward way of improving pipeline performance could be to use a paid option such as ChatGPT"
      ]
    },
    {
      "cell_type": "markdown",
      "metadata": {
        "id": "ZhkmytKNU_Z2"
      },
      "source": [
        "<a name=\"cui-deployment\"></a>\n",
        "# 8. Deployment as Conversation User Interface (CUI)\n",
        "\n",
        "Deploying the model as a Conversation User Interface (CUI) necessitates embedding the model in a deployment framework and running it on a web server. Given these technical intricacies, we cannot run the code as part of this notebook. Instead, we'll provide selected bits of the code and provide and overview of key considerations, as well as sharing the access to the repository from which we host the application for you to explore on your own."
      ]
    },
    {
      "cell_type": "markdown",
      "metadata": {
        "id": "j6Fm2YhrVyTn"
      },
      "source": [
        "## Key Steps and Considerations\n",
        "\n",
        "- **Utilizing Chainlit Framework:** We employ Chainlit to convert the model into a web application. Chainlit, an asynchronous Python framework, supports numerous concurrent connections and operates on an event-driven basis. This setup allows for efficient processing and handling of user interactions. Using Chainlit's event-driven syntax, specific code segments are linked to particular user actions. For instance, when a user initiates a chat, the system loads and processes relevant documents, establishes the vector database, and loads the model. Subsequently, when a user poses a question, it feeds into the model as a query, computes a response, and presents associated sources.\n",
        "\n",
        "- **Adaptating RAG Pipeline for Compatibility with Chainlit:** To align with Chainlit's requirements, the model undergoes slight modifications, employing the `ConversationRetrievalChain`, which is highly tailored to the task. While this simplifies deployment, it sacrifices some flexibility and transparency compared to the earlier RAG versions you encountered. We made this choice consciously, as we wanted you to grasp what is happening under the hood first, before employing the more effective, but also opaque ready-made function.\n",
        "\n",
        "- **Chainlit Design Features:** Chainlit comes with many useful and intuitive design features. For instance, you may easily design and adapt your very own landing page accompanying your application. This can be done by manipulating the `chainlit.md` file which is created when running your application for the first time. Check out the landing page for our FAR-Chat in our repository!\n",
        "\n",
        "- **Deployment via Hugging Face Spaces:** Hosting the application on a personal web server restricts access. Therefore, we utilize Hugging Face Spaces, a free, open-source service from Hugging Face, for public deployment. The platform's interface resembles GitHub and simplifies the upload of data and applications.\n"
      ]
    },
    {
      "cell_type": "markdown",
      "metadata": {
        "id": "yDqFXgF8VyTn"
      },
      "source": [
        "## Chainlit Python Script\n",
        "The script below gives you a glimpse into the changes the pipeline has undergone when being transformed into a deployable python application. Please note, that the code chunk cannot be run as part of this notebook."
      ]
    },
    {
      "cell_type": "code",
      "execution_count": null,
      "metadata": {
        "id": "8LWo6UQzwj37",
        "tags": []
      },
      "outputs": [],
      "source": [
        "%%script false --no-raise-error\n",
        "\n",
        "# import all necessary packages\n",
        "import os\n",
        "\n",
        "from langchain.document_loaders import DirectoryLoader\n",
        "from langchain.document_loaders import BSHTMLLoader\n",
        "from bs4 import SoupStrainer\n",
        "import re\n",
        "\n",
        "from langchain import HuggingFaceHub, PromptTemplate, LLMChain\n",
        "from langchain.embeddings import SentenceTransformerEmbeddings\n",
        "from langchain.vectorstores import Chroma\n",
        "\n",
        "from langchain.chains import ConversationalRetrievalChain\n",
        "from langchain.memory import ChatMessageHistory, ConversationBufferMemory\n",
        "\n",
        "import chainlit as cl\n",
        "\n",
        "from langchain.prompts.chat import (\n",
        "    ChatPromptTemplate,\n",
        "    SystemMessagePromptTemplate,\n",
        "    HumanMessagePromptTemplate,\n",
        ")\n",
        "\n",
        "# define prompt template\n",
        "system_template = \"\"\"Use the following pieces of context to answer the users question.\n",
        "If you don't know the answer, just say that you don't know, don't try to make up an answer.\n",
        "ALWAYS return a \"SOURCES\" part in your answer.\n",
        "The \"SOURCES\" part should be a reference to the source of the document from which you got your answer.\n",
        "And if the user greets with greetings like Hi, hello, How are you, etc reply accordingly as well.\n",
        "Example of your response should be:\n",
        "The answer is foo\n",
        "SOURCES: xyz\n",
        "Begin!\n",
        "----------------\n",
        "{summaries}\"\"\"\n",
        "messages = [\n",
        "    SystemMessagePromptTemplate.from_template(system_template),\n",
        "    HumanMessagePromptTemplate.from_template(\"{question}\"),\n",
        "]\n",
        "prompt = ChatPromptTemplate.from_messages(messages)\n",
        "chain_type_kwargs = {\"prompt\": prompt}\n",
        "\n",
        "# define the llm\n",
        "model_id = \"tiiuae/falcon-7b-instruct\"\n",
        "conv_model = HuggingFaceHub(\n",
        "    huggingfacehub_api_token=os.environ['HF_API_TOKEN'],\n",
        "    repo_id=model_id,\n",
        "    model_kwargs={\"temperature\":0.8,\"max_length\": 1000}\n",
        "    )\n",
        "\n",
        "# set up vector db with chroma\n",
        "data_path = \"data/html\"\n",
        "embed_model = \"all-MiniLM-L6-v2\" # Chroma defaults to \"sentence-transformers/all-MiniLM-L6-v2\"\n",
        "\n",
        "# load documents\n",
        "def load_documents(directory):\n",
        "\n",
        "    # define Beautiful Soup key word args\n",
        "    bs_kwargs = {\n",
        "        \"features\": \"html.parser\",\n",
        "        \"parse_only\": SoupStrainer(\"p\") # only include relevant text\n",
        "        }\n",
        "\n",
        "    # define Loader key word args\n",
        "    loader_kwargs = {\n",
        "        \"open_encoding\": \"utf-8\",\n",
        "        \"bs_kwargs\": bs_kwargs\n",
        "        }\n",
        "\n",
        "    # define Loader\n",
        "    loader = DirectoryLoader(\n",
        "        path=directory,\n",
        "        glob=\"*.html\",\n",
        "        loader_cls=BSHTMLLoader,\n",
        "        loader_kwargs=loader_kwargs\n",
        "        )\n",
        "\n",
        "    documents = loader.load()\n",
        "    return documents\n",
        "\n",
        "\n",
        "# prepare documents\n",
        "def prepare_documents(documents):\n",
        "    for doc in documents:\n",
        "        doc.page_content = doc.page_content.replace(\"\\n\", \" \").replace(\"\\t\", \" \")\n",
        "        doc.page_content = re.sub(\"\\\\s+\", \" \", doc.page_content)\n",
        "\n",
        "    # define Beautiful Soup key word args\n",
        "    bs_kwargs = {\n",
        "        \"features\": \"html.parser\",\n",
        "        \"parse_only\": SoupStrainer(\"title\") # only include relevant text\n",
        "        }\n",
        "\n",
        "    # define Loader key word args\n",
        "    loader_kwargs = {\n",
        "        \"open_encoding\": \"utf-8\",\n",
        "        \"bs_kwargs\": bs_kwargs\n",
        "        }\n",
        "\n",
        "    loader = DirectoryLoader(\n",
        "        path=data_path,\n",
        "        glob=\"*.html\",\n",
        "        loader_cls=BSHTMLLoader,\n",
        "        loader_kwargs=loader_kwargs\n",
        "        )\n",
        "\n",
        "    document_sources = loader.load()\n",
        "\n",
        "    # convert source metadata into a list\n",
        "    source_list = [doc.metadata[\"title\"] for doc in document_sources]\n",
        "\n",
        "    # update source metadata\n",
        "    i = 0\n",
        "    for doc in documents:\n",
        "        doc.metadata[\"source\"] = \" \".join([\"FAR\", source_list[i]])\n",
        "        i += 1\n",
        "    return documents\n",
        "\n",
        "# define a function to execute when a chat starts\n",
        "@cl.on_chat_start\n",
        "async def on_chat_start():\n",
        "    # instantiate the chain for that user session\n",
        "    embedding_func = SentenceTransformerEmbeddings(model_name=embed_model)\n",
        "\n",
        "    # display a message indicating document loading\n",
        "    msg = cl.Message(\n",
        "        content=\"Loading and processing documents. This may take a while...\",\n",
        "        disable_human_feedback=True)\n",
        "    await msg.send()\n",
        "\n",
        "    # load and prepare documents for processing\n",
        "    documents = load_documents(data_path)\n",
        "    documents = prepare_documents(documents)\n",
        "\n",
        "    # create a document search object asynchronously\n",
        "    docsearch = await cl.make_async(Chroma.from_documents)(\n",
        "        documents,\n",
        "        embedding_func\n",
        "    )\n",
        "\n",
        "    # initialize ChatMessageHistory object to store message history\n",
        "    message_history = ChatMessageHistory()\n",
        "\n",
        "    # initialize ConversationBufferMemory object to store conversation history\n",
        "    memory = ConversationBufferMemory(\n",
        "        memory_key=\"chat_history\",\n",
        "        output_key=\"answer\",\n",
        "        chat_memory=message_history,\n",
        "        return_messages=True,\n",
        "    )\n",
        "\n",
        "    # create a ConversationalRetrievalChain object\n",
        "    chain = ConversationalRetrievalChain.from_llm(\n",
        "        conv_model,\n",
        "        chain_type=\"stuff\",\n",
        "        retriever=docsearch.as_retriever(),\n",
        "        memory=memory,\n",
        "        return_source_documents=True,\n",
        "    )\n",
        "\n",
        "    # indicate readiness for questions\n",
        "    msg.content = \"Ready. You can now ask questions!\"\n",
        "    await msg.update()\n",
        "\n",
        "    # store the chain in the user's session\n",
        "    cl.user_session.set(\"chain\", chain)\n",
        "\n",
        "# define a function to handle messages\n",
        "@cl.on_message\n",
        "async def main(message):\n",
        "    # retrieve the chain object from the user's session\n",
        "    chain = cl.user_session.get(\"chain\")  # type: ConversationalRetrievalChain\n",
        "    cb = cl.AsyncLangchainCallbackHandler()\n",
        "\n",
        "    # call the chain to process the incoming message\n",
        "    res = await chain.acall(message.content, callbacks=[cb])\n",
        "\n",
        "    # retrieve the answer and source documents from the chain's response\n",
        "    answer = res[\"answer\"]\n",
        "    source_documents = res[\"source_documents\"]\n",
        "\n",
        "    text_elements = []  # list to store text elements\n",
        "    source_names = set()  # set to store unique source names\n",
        "\n",
        "    # iterate through source documents and extract relevant information\n",
        "    for idx, source_doc in enumerate(source_documents):\n",
        "        source_name = source_doc.metadata[\"source\"]\n",
        "        text_elements.append(\n",
        "                cl.Text(content=source_doc.page_content,\n",
        "                        name=source_name))\n",
        "        source_names.add(source_name)  # add the source name to the set\n",
        "\n",
        "    # append sources information to the answer if available\n",
        "    if source_names:\n",
        "            answer += f\"\\nSources: {', '.join(source_names)}\"\n",
        "    else:\n",
        "            answer += \"\\nNo sources found\"\n",
        "\n",
        "    # send the answer along with any extracted text elements\n",
        "    await cl.Message(content=answer, elements=text_elements).send()"
      ]
    },
    {
      "cell_type": "markdown",
      "metadata": {
        "id": "LYDkQ79iVyTp"
      },
      "source": [
        "## Deployment"
      ]
    },
    {
      "cell_type": "markdown",
      "metadata": {
        "id": "EsLy-IY2VyTq"
      },
      "source": [
        "#### Local Hosting:\n",
        "You can effortlessly host the application locally through the terminal. Just execute `chainlit run [filename.py] -w` in a terminal conencted to local repository. This command opens a locally hosted server which is displayed in your default internet browser. By including `-w`, any modifications made to the script will automatically update the associated image.\n",
        "\n",
        "#### Sharing via Web Server:\n",
        "For broader accessibility to the application, utilizing a web server becomes pivotal. Here's where Hugging Face Spaces comes in. The Hugging Face Spaces repository mirrors your local repository, containg the python application and any data. Additionally, you have to create a Docker file, which contains the instructions to build a Docker image, which in turn allows you to deploy your python application using containers. Importantly, the Docker file for chainlit deployment in Hugging Face Spaces is largely standardized, and you will only have to change the name of the Python file associated with your application."
      ]
    },
    {
      "cell_type": "markdown",
      "metadata": {
        "id": "x1ZwlBNZVyTq"
      },
      "source": [
        "### Hugging Face Spaces Repository"
      ]
    },
    {
      "cell_type": "code",
      "execution_count": 13,
      "metadata": {
        "id": "2Pfxfh2KVyTq",
        "outputId": "6c043e6b-1e66-4af6-903a-2eddcaf05551"
      },
      "outputs": [
        {
          "data": {
            "text/html": [
              "<img src=\"https://raw.githubusercontent.com/smkerr/tutorial-RAG-C/main/img/hugging-face-repo.png\" style=\"width: 55%\">"
            ],
            "text/plain": [
              "<IPython.core.display.HTML object>"
            ]
          },
          "execution_count": 13,
          "metadata": {},
          "output_type": "execute_result"
        }
      ],
      "source": [
        "image_path = 'https://raw.githubusercontent.com/smkerr/tutorial-RAG-C/main/img/hugging-face-repo.png'\n",
        "HTML(f'<img src=\"{image_path}\" style=\"width: {image_width_percentage}%\">')"
      ]
    },
    {
      "cell_type": "markdown",
      "metadata": {
        "id": "gWQsJUG9VyTr"
      },
      "source": [
        "### Docker File"
      ]
    },
    {
      "cell_type": "code",
      "execution_count": 14,
      "metadata": {
        "id": "A5XHyexbVyTr",
        "outputId": "5dbc450a-b1ed-4166-a01f-20fea58f62c9"
      },
      "outputs": [
        {
          "data": {
            "text/html": [
              "<img src=\"https://raw.githubusercontent.com/smkerr/tutorial-RAG-C/main/img/docker-file.png\" style=\"width: 55%\">"
            ],
            "text/plain": [
              "<IPython.core.display.HTML object>"
            ]
          },
          "execution_count": 14,
          "metadata": {},
          "output_type": "execute_result"
        }
      ],
      "source": [
        "image_path = 'https://raw.githubusercontent.com/smkerr/tutorial-RAG-C/main/img/docker-file.png'\n",
        "HTML(f'<img src=\"{image_path}\" style=\"width: {image_width_percentage}%\">')"
      ]
    },
    {
      "cell_type": "markdown",
      "metadata": {
        "id": "LJLZKhQHVyTr"
      },
      "source": [
        "## Access our Federal Acquisition Regulation (FAR) Chat\n",
        "Access our \"FAR-Chat\" on Hugging Face Spaces [here](https://huggingface.co/spaces/smkerr/rag-chat). Explore the repository and its files, especially the adapted Python application [here](https://huggingface.co/spaces/smkerr/rag-chat/tree/main)."
      ]
    },
    {
      "cell_type": "code",
      "execution_count": 16,
      "metadata": {},
      "outputs": [
        {
          "data": {
            "text/html": [
              "<img src=\"https://raw.githubusercontent.com/smkerr/tutorial-RAG-C/main/img/far-chat-preview.png\" style=\"width: 55%\">"
            ],
            "text/plain": [
              "<IPython.core.display.HTML object>"
            ]
          },
          "execution_count": 16,
          "metadata": {},
          "output_type": "execute_result"
        }
      ],
      "source": [
        "image_path = 'https://raw.githubusercontent.com/smkerr/tutorial-RAG-C/main/img/far-chat-preview.png'\n",
        "HTML(f'<img src=\"{image_path}\" style=\"width: {image_width_percentage}%\">')"
      ]
    },
    {
      "cell_type": "markdown",
      "metadata": {
        "id": "sGydMxgcVyTs"
      },
      "source": [
        "## Caveats on Usage and Performance\n",
        "\n",
        "- **Limitations of Hugging Face Spaces:** Hugging Face Spaces' free access comes with constrained CPU support. Consequently, working with the entire dataset of nearly 3,500 documents led to significant waiting times upon launching the chat. Thus, a random subset of 500 files was chosen to showcase functionality.\n",
        "\n",
        "- **Model Performance:** As a result of the smaller dataset and  performance limitations of open-source models like Falcon-7b-instruct compared to paid models like GPT-4, occasional erroneous or irrelevant answers might occur. Restarting the chat or rephrasing the question often rectifies such issues.\n",
        "\n",
        "- **Enhancing Performance:** A small investment in GPU-supported web hosting and premium model access could substantially improve performance, mitigating these limitations.\n"
      ]
    },
    {
      "cell_type": "markdown",
      "metadata": {
        "id": "PkKqewK_-ZLD"
      },
      "source": [
        "<a name=\"references\"></a>\n",
        "# References & Further Resources"
      ]
    },
    {
      "cell_type": "markdown",
      "metadata": {
        "id": "in-ejZs9VyTs"
      },
      "source": [
        "## References\n",
        "\n",
        "The following resources were consulted along with ChatGPT and Stack Overflow to explain, troubleshoot, and comment on the code:\n",
        "\n",
        "* 9/11 Comission. 2004. Final Report. Link: https://www.9-11commission.gov/report/911Report.pdf\n",
        "* Best Open Source LLM — Falcon 40B Chatbot in LangChain: https://youtu.be/ukj_ITJKBwE?si=t-srzn5YgcCiLjiC\n",
        "* Better Llama 2 with Retrieval Augmented Generation (RAG): https://youtu.be/ypzmPwLH_Q4?si=qVRzr4b95sMk_XBc\n",
        "* Build a Private Chatbot with Local LLM (Falcon 7B) and LangChain: https://youtu.be/N7dGOUwufBM?si=c2htR20tc-1eC33V\n",
        "* Building RAG Chatbots with LangChain: https://github.com/pinecone-io/examples/blob/master/learn/generation/langchain/rag-chatbot.ipynb\n",
        "* Chatbots with RAG: LangChain Full Walkthrough: https://youtu.be/LhnCsygAvzY?si=bXJvLknL1Z5rIxR_\n",
        "* Chroma Documentation: Hugging Face: https://docs.trychroma.com/embeddings/hugging-face\n",
        "* Chroma Documentation: https://docs.trychroma.com/embeddings\n",
        "* Complete LangChain Tutorial: https://github.com/krishnaik06/Complete-Langchain-Tutorials\n",
        "* Embeddings and Vector Databases With ChromaDB: https://realpython.com/chromadb-vector-database/\n",
        "* Get Things Done with Prompt Engineering and LangChain: https://github.com/curiousily/Get-Things-Done-with-Prompt-Engineering-and-LangChain\n",
        "* Hugging Face: setence-transformers: https://huggingface.co/sentence-transformers\n",
        "* Hugging Face: sentence-transformers/all-MiniLM-L6-v2: https://huggingface.co/sentence-transformers/all-MiniLM-L6-v2\n",
        "* LangChain Documentation: Chat Models: https://python.langchain.com/docs/integrations/chat/\n",
        "* LangChain Documentation: Chroma: https://python.langchain.com/docs/integrations/vectorstores/chroma\n",
        "* LangChain Documentation: File Directory: https://python.langchain.com/docs/modules/data_connection/document_loaders/file_directory\n",
        "* LangChain Documentation: HTML: https://python.langchain.com/docs/modules/data_connection/document_loaders/html#loading-html-with-beautifulsoup4\n",
        "* Langchain RAG Tutorial: https://github.com/pixegami/langchain-rag-tutorial\n",
        "* Learn LangChain In 1 Hour With End To End LLM Project With Deployment In Hugging Face Spaces: https://youtu.be/qMIM7dECAkc?si=JcHClnCbKjjCwFKf\n",
        "* Partnership for Public Service. 2019. Federal Workforce. Link: https://ourpublicservice.org/wp-content/uploads/2022/03/FedFigures_FY18-Workforce-1.pdf\n",
        "* Private Chatbot with Local LLM (Falcon 7B) and LangChain: https://www.mlexpert.io/prompt-engineering/chatbot-with-local-llm-using-langchain\n",
        "* RAG + Langchain Python Project: https://youtu.be/tcqEUSNCn8I?si=xT0EdUocHfiiSO9z"
      ]
    },
    {
      "cell_type": "markdown",
      "metadata": {
        "id": "YKHPEGh9VyTs"
      },
      "source": [
        "## Further Resources\n",
        "\n",
        "This tutorial is designed to give you a thorough introduction to RAG+Cs. While the tutorial focuses more on their hands-on implementation, these resources extend and deepen the content covered in the tutorial through conceptual underpinnings from academia and technical experts.\n",
        "\n",
        "* [Seminal paper on RAG introduced at the 34th NeurIPS in 2020](https://proceedings.neurips.cc/paper/2020/file/6b493230205f780e1bc26945df7481e5-Paper.pdf): Lewis, P., Perez, E., Piktus, A., Petroni, F., Karpukhin, V., Goyal, N., Kuettler, H., Lewis, M., Yih, W., Rocktaeschel, T., Riedel, S and Kiela, D. (2020)\n",
        "* [Here is a presentation of the above paper by the author](https://www.youtube.com/watch?v=JGpmQvlYRdU): Lewis, P. (2020)\n",
        "* [More on obstacles for RAG and potential remedies](https://aclanthology.org/2022.naacl-srw.7/): Yu, W. (2022)\n",
        "* [Blog post on evaluating RAG models](https://towardsdatascience.com/a-3-step-approach-to-evaluate-a-retrieval-augmented-generation-rag-5acf2aba86de): Besbes, A. (2023, Nov)"
      ]
    },
    {
      "cell_type": "markdown",
      "metadata": {
        "id": "ydHWzscJVyTt"
      },
      "source": [
        "For a straightforward, hands-on introduction to RAG, check out this video:"
      ]
    },
    {
      "cell_type": "code",
      "execution_count": null,
      "metadata": {
        "id": "Icll8yL3VyTt",
        "outputId": "e28ad894-59e6-440d-a413-1976931d9d5b"
      },
      "outputs": [
        {
          "data": {
            "image/jpeg": "[encoded data removed]",
            "text/html": [
              "\n",
              "        <iframe\n",
              "            width=\"400\"\n",
              "            height=\"300\"\n",
              "            src=\"https://www.youtube.com/embed/LhnCsygAvzY\"\n",
              "            frameborder=\"0\"\n",
              "            allowfullscreen\n",
              "            \n",
              "        ></iframe>\n",
              "        "
            ],
            "text/plain": [
              "<IPython.lib.display.YouTubeVideo at 0x107b733d0>"
            ]
          },
          "execution_count": 1,
          "metadata": {},
          "output_type": "execute_result"
        }
      ],
      "source": [
        "YouTubeVideo('LhnCsygAvzY')"
      ]
    }
  ],
  "metadata": {
    "colab": {
      "include_colab_link": true,
      "provenance": []
    },
    "kernelspec": {
      "display_name": "Python 3",
      "name": "python3"
    },
    "language_info": {
      "codemirror_mode": {
        "name": "ipython",
        "version": 3
      },
      "file_extension": ".py",
      "mimetype": "text/x-python",
      "name": "python",
      "nbconvert_exporter": "python",
      "pygments_lexer": "ipython3",
      "version": "3.11.6"
    }
  },
  "nbformat": 4,
  "nbformat_minor": 0
}
